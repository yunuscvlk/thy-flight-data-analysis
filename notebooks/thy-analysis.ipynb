{
 "cells": [
  {
   "cell_type": "markdown",
   "id": "c7eb3c76-cb50-45b9-921f-83acef3b7e81",
   "metadata": {},
   "source": [
    "# THY Analysis"
   ]
  },
  {
   "cell_type": "markdown",
   "id": "f876f0c8-7dbb-40eb-a886-7f73a24e834a",
   "metadata": {},
   "source": [
    "## Step 1: Data Loading"
   ]
  },
  {
   "cell_type": "markdown",
   "id": "594c1e4e-f3b5-4fe1-b7ef-8c3264e93f03",
   "metadata": {},
   "source": [
    "### Data Reading and Preparation: THY, IATA and Country Data"
   ]
  },
  {
   "cell_type": "code",
   "execution_count": 1,
   "id": "58395bde-4392-464c-b05f-e3dd7a52b279",
   "metadata": {},
   "outputs": [
    {
     "name": "stdout",
     "output_type": "stream",
     "text": [
      "Deleted /datasets/thy_raw_data.csv\n",
      "SEASON,ORIGIN,DESTINATION,PSGR_COUNT\n",
      "SUMMER,227,YYZ,6\n",
      "SUMMER,224,222,3\n",
      "SUMMER,226,JF8,1\n",
      "SUMMER,227,3RG,11\n",
      "SUMMER,227,6RV,245\n",
      "SUMMER,222,224,867\n",
      "SUMMER,226,2DL,2\n",
      "SUMMER,22E,4UD,12\n",
      "SUMMER,22E,RUH,16\n"
     ]
    }
   ],
   "source": [
    "! hdfs dfs -rm /datasets/thy_raw_data.csv\n",
    "! hdfs dfs -put ../datasets/thy_data.txt /datasets/thy_raw_data.csv\n",
    "! hdfs dfs -cat /datasets/thy_raw_data.csv | head -n 10"
   ]
  },
  {
   "cell_type": "code",
   "execution_count": 2,
   "id": "9a1458fd-41f7-46a1-9972-856b5f88b7f1",
   "metadata": {},
   "outputs": [
    {
     "name": "stdout",
     "output_type": "stream",
     "text": [
      "Deleted /datasets/iata_icao_raw_data.csv\n",
      "\"country_code\",\"region_name\",\"iata\",\"icao\",\"airport\",\"latitude\",\"longitude\"\n",
      "\"AE\",\"Abu Zaby\",\"AAN\",\"OMAL\",\"Al Ain International Airport\",\"24.2617\",\"55.6092\"\n",
      "\"AE\",\"Abu Zaby\",\"AUH\",\"OMAA\",\"Abu Dhabi International Airport\",\"24.433\",\"54.6511\"\n",
      "\"AE\",\"Abu Zaby\",\"AYM\",\"\",\"Yas Island Seaplane Base\",\"24.467\",\"54.6103\"\n",
      "\"AE\",\"Abu Zaby\",\"AZI\",\"OMAD\",\"Al Bateen Executive Airport\",\"24.4283\",\"54.4581\"\n",
      "\"AE\",\"Abu Zaby\",\"DHF\",\"OMAM\",\"Al Dhafra Air Base\",\"24.2482\",\"54.5477\"\n",
      "\"AE\",\"Abu Zaby\",\"XSB\",\"OMBY\",\"Sir Bani Yas Airport\",\"24.2836\",\"52.5803\"\n",
      "\"AE\",\"Abu Zaby\",\"ZDY\",\"OMDL\",\"Dalma Airport\",\"24.51\",\"52.3352\"\n",
      "\"AE\",\"Al Fujayrah\",\"FJR\",\"OMFJ\",\"Fujairah International Airport\",\"25.1122\",\"56.324\"\n",
      "\"AE\",\"Ash Shariqah\",\"SHJ\",\"OMSJ\",\"Sharjah International Airport\",\"25.3286\",\"55.5172\"\n"
     ]
    }
   ],
   "source": [
    "! hdfs dfs -rm /datasets/iata_icao_raw_data.csv\n",
    "! hdfs dfs -put ../datasets/iata-icao.csv /datasets/iata_icao_raw_data.csv\n",
    "! hdfs dfs -cat /datasets/iata_icao_raw_data.csv | head -n 10"
   ]
  },
  {
   "cell_type": "code",
   "execution_count": 3,
   "id": "b2b78944-8989-4774-91b1-b4ac8f791931",
   "metadata": {},
   "outputs": [
    {
     "name": "stdout",
     "output_type": "stream",
     "text": [
      "Deleted /datasets/country_raw_data.csv\n",
      "id,value\n",
      "AF,Afghanistan\n",
      "AX,\"Åland Islands\"\n",
      "AL,Albania\n",
      "DZ,Algeria\n",
      "AS,\"American Samoa\"\n",
      "AD,Andorra\n",
      "AO,Angola\n",
      "AI,Anguilla\n",
      "AQ,Antarctica\n"
     ]
    }
   ],
   "source": [
    "! hdfs dfs -rm /datasets/country_raw_data.csv\n",
    "! hdfs dfs -put ../datasets/country.csv /datasets/country_raw_data.csv\n",
    "! hdfs dfs -cat /datasets/country_raw_data.csv | head -n 10"
   ]
  },
  {
   "cell_type": "code",
   "execution_count": 4,
   "id": "097d0742-3a0a-4b39-8c6e-09d5c5b2e61c",
   "metadata": {},
   "outputs": [],
   "source": [
    "import findspark\n",
    "findspark.init(spark_home=\"/usr/local/spark\", python_path=\"/usr/bin/python3\")"
   ]
  },
  {
   "cell_type": "code",
   "execution_count": 5,
   "id": "6d53f112-dd3d-4d44-a1de-852db95c31f9",
   "metadata": {},
   "outputs": [],
   "source": [
    "from pyspark.sql import SparkSession, functions as F, types as T, Window as W\n",
    "spark = (\n",
    "    SparkSession.builder\n",
    "        .appName(\"THY Analysis\")\n",
    "        .config(\"spark.driver.memory\", \"2g\")\n",
    "        .config(\"spark.executor.memory\", \"2g\")\n",
    "        .config(\"spark.executor.cores\", \"2\")\n",
    "        .config(\"spark.sql.shuffle.partitions\", \"8\")\n",
    "        .config(\"spark.ui.showConsoleProgress\", \"false\")\n",
    "        .config(\"spark.sql.warehouse.dir\", \"/user/hive/warehouse\")\n",
    "        .config(\"spark.hadoop.hive.metastore.uris\", \"thrift://localhost:9083\")\n",
    "        .enableHiveSupport()\n",
    "        .getOrCreate()\n",
    ")"
   ]
  },
  {
   "cell_type": "code",
   "execution_count": 6,
   "id": "14e593c8-45b0-4a3c-86e8-3eb461b3959a",
   "metadata": {},
   "outputs": [],
   "source": [
    "hive_db = \"thy_analysis\"\n",
    "raw_table = \"thy_raw_data\"\n",
    "processed_table = \"thy_processed_data\""
   ]
  },
  {
   "cell_type": "code",
   "execution_count": 7,
   "id": "cc0e24eb-48c8-4032-a247-e94f26b99d56",
   "metadata": {},
   "outputs": [],
   "source": [
    "spark.sql(f\"CREATE DATABASE IF NOT EXISTS {hive_db}\")\n",
    "spark.sql(f\"USE {hive_db}\")"
   ]
  },
  {
   "cell_type": "code",
   "execution_count": 8,
   "id": "8f939a05-bb25-4ef0-85f0-06b5c298d222",
   "metadata": {},
   "outputs": [],
   "source": [
    "df_thy = (\n",
    "    spark.read.format(\"csv\")\n",
    "        .option(\"header\", True)\n",
    "        .option(\"sep\", \",\")\n",
    "        .schema(T.StructType([\n",
    "            T.StructField(\"SEASON\", T.StringType()),\n",
    "            T.StructField(\"ORIGIN\", T.StringType()),\n",
    "            T.StructField(\"DESTINATION\", T.StringType()),\n",
    "            T.StructField(\"PSGR_COUNT\", T.IntegerType())\n",
    "        ]))\n",
    "        .load(\"/datasets/thy_raw_data.csv\")\n",
    "        .withColumnRenamed(\"DESTINATION\", \"DEST\")\n",
    "        .persist()\n",
    ")\n",
    "\n",
    "df_iata = (\n",
    "    spark.read.format(\"csv\")\n",
    "        .option(\"header\", True)\n",
    "        .option(\"sep\", \",\")\n",
    "        .schema(T.StructType([\n",
    "            T.StructField(\"country_code\", T.StringType()),\n",
    "            T.StructField(\"region_name\", T.StringType()),\n",
    "            T.StructField(\"iata\", T.StringType()),\n",
    "            T.StructField(\"icao\", T.StringType()),\n",
    "            T.StructField(\"airport\", T.StringType()),\n",
    "            T.StructField(\"latitude\", T.DoubleType()),\n",
    "            T.StructField(\"longitude\", T.DoubleType())\n",
    "        ]))\n",
    "        .load(\"/datasets/iata_icao_raw_data.csv\")\n",
    "        .withColumnRenamed(\"country_code\", \"CNT_CODE\")\n",
    "        .withColumnRenamed(\"region_name\", \"REG_NAME\")\n",
    "        .withColumnRenamed(\"iata\", \"IATA\")\n",
    "        .withColumnRenamed(\"icao\", \"ICAO\")\n",
    "        .withColumnRenamed(\"airport\", \"AIR_NAME\")\n",
    "        .withColumnRenamed(\"latitude\", \"LAT\")\n",
    "        .withColumnRenamed(\"longitude\", \"LON\")\n",
    "        .persist()\n",
    ")\n",
    "\n",
    "df_country = (\n",
    "    spark.read.format(\"csv\")\n",
    "        .option(\"header\", True)\n",
    "        .option(\"sep\", \",\")\n",
    "        .schema(T.StructType([\n",
    "            T.StructField(\"id\", T.StringType()),\n",
    "            T.StructField(\"value\", T.StringType())\n",
    "        ]))\n",
    "        .load(\"/datasets/country_raw_data.csv\")\n",
    "        .withColumnRenamed(\"id\", \"CNT_CODE\")\n",
    "        .withColumnRenamed(\"value\", \"CNT_NAME\")\n",
    "        .persist()\n",
    ")"
   ]
  },
  {
   "cell_type": "markdown",
   "id": "83cf6138-ffe9-4ec0-a745-b60d8efb3438",
   "metadata": {},
   "source": [
    "### Data Merging: Integration of THY, IATA and Country Data"
   ]
  },
  {
   "cell_type": "code",
   "execution_count": 9,
   "id": "174c5750-b185-4d8b-83d9-2ee179d62ca8",
   "metadata": {},
   "outputs": [],
   "source": [
    "df = df_thy.join(\n",
    "    df_iata.alias(\"ORIGIN\"), F.col(\"ORIGIN\") == F.col(\"ORIGIN.IATA\"), how=\"left\"\n",
    ").select(\n",
    "    df_thy[\"*\"],\n",
    "    F.col(\"ORIGIN.CNT_CODE\").alias(\"ORIGIN_CNT_CODE\"),\n",
    "    F.col(\"ORIGIN.REG_NAME\").alias(\"ORIGIN_REG_NAME\"),\n",
    "    F.col(\"ORIGIN.AIR_NAME\").alias(\"ORIGIN_AIR_NAME\"),\n",
    "    F.col(\"ORIGIN.LAT\").alias(\"ORIGIN_LAT\"),\n",
    "    F.col(\"ORIGIN.LON\").alias(\"ORIGIN_LON\")\n",
    ")\n",
    "\n",
    "df = df.join(\n",
    "    df_iata.alias(\"DEST\"), F.col(\"DEST\") == F.col(\"DEST.IATA\"), how=\"left\"\n",
    ").select(\n",
    "    df[\"*\"],\n",
    "    F.col(\"DEST.CNT_CODE\").alias(\"DEST_CNT_CODE\"),\n",
    "    F.col(\"DEST.REG_NAME\").alias(\"DEST_REG_NAME\"),\n",
    "    F.col(\"DEST.AIR_NAME\").alias(\"DEST_AIR_NAME\"),\n",
    "    F.col(\"DEST.LAT\").alias(\"DEST_LAT\"),\n",
    "    F.col(\"DEST.LON\").alias(\"DEST_LON\")\n",
    ")\n",
    "\n",
    "df = df.join(\n",
    "    df_country.alias(\"ORIGIN_CNT\"), F.col(\"ORIGIN_CNT_CODE\") == F.col(\"ORIGIN_CNT.CNT_CODE\"), how=\"left\"\n",
    ").select(\n",
    "    df[\"*\"],\n",
    "    F.col(\"ORIGIN_CNT.CNT_NAME\").alias(\"ORIGIN_CNT_NAME\")\n",
    ")\n",
    "\n",
    "df = df.join(\n",
    "    df_country.alias(\"DEST_CNT\"), F.col(\"DEST_CNT_CODE\") == F.col(\"DEST_CNT.CNT_CODE\"), how=\"left\"\n",
    ").select(\n",
    "    df[\"*\"],\n",
    "    F.col(\"DEST_CNT.CNT_NAME\").alias(\"DEST_CNT_NAME\")\n",
    ")"
   ]
  },
  {
   "cell_type": "code",
   "execution_count": 10,
   "id": "c4adcd3e-0171-4031-b650-fba06947f2b1",
   "metadata": {},
   "outputs": [],
   "source": [
    "df.repartition(12).write.mode(\"overwrite\").saveAsTable(f\"{hive_db}.{raw_table}\")"
   ]
  },
  {
   "cell_type": "markdown",
   "id": "17dd0bbb-b912-4e8a-b9f0-b690eef3d1c7",
   "metadata": {},
   "source": [
    "### Data Analysis: Structure, Summary Statistics and Missing Data Check"
   ]
  },
  {
   "cell_type": "code",
   "execution_count": 11,
   "id": "6a699b0a-9787-4555-8271-c666ff615eb5",
   "metadata": {},
   "outputs": [
    {
     "name": "stdout",
     "output_type": "stream",
     "text": [
      "root\n",
      " |-- SEASON: string (nullable = true)\n",
      " |-- ORIGIN: string (nullable = true)\n",
      " |-- DEST: string (nullable = true)\n",
      " |-- PSGR_COUNT: integer (nullable = true)\n",
      " |-- ORIGIN_CNT_CODE: string (nullable = true)\n",
      " |-- ORIGIN_REG_NAME: string (nullable = true)\n",
      " |-- ORIGIN_AIR_NAME: string (nullable = true)\n",
      " |-- ORIGIN_LAT: double (nullable = true)\n",
      " |-- ORIGIN_LON: double (nullable = true)\n",
      " |-- DEST_CNT_CODE: string (nullable = true)\n",
      " |-- DEST_REG_NAME: string (nullable = true)\n",
      " |-- DEST_AIR_NAME: string (nullable = true)\n",
      " |-- DEST_LAT: double (nullable = true)\n",
      " |-- DEST_LON: double (nullable = true)\n",
      " |-- ORIGIN_CNT_NAME: string (nullable = true)\n",
      " |-- DEST_CNT_NAME: string (nullable = true)\n",
      "\n"
     ]
    }
   ],
   "source": [
    "df.printSchema()"
   ]
  },
  {
   "cell_type": "code",
   "execution_count": 12,
   "id": "192c06e1-d7d7-4ade-9c89-e32b402e9cf3",
   "metadata": {},
   "outputs": [
    {
     "data": {
      "text/plain": [
       "1719202"
      ]
     },
     "execution_count": 12,
     "metadata": {},
     "output_type": "execute_result"
    }
   ],
   "source": [
    "df.count()"
   ]
  },
  {
   "cell_type": "code",
   "execution_count": 13,
   "id": "64c6b9c9-88a6-4e9b-ba2f-10a65ead407c",
   "metadata": {},
   "outputs": [
    {
     "data": {
      "text/html": [
       "<div>\n",
       "<style scoped>\n",
       "    .dataframe tbody tr th:only-of-type {\n",
       "        vertical-align: middle;\n",
       "    }\n",
       "\n",
       "    .dataframe tbody tr th {\n",
       "        vertical-align: top;\n",
       "    }\n",
       "\n",
       "    .dataframe thead th {\n",
       "        text-align: right;\n",
       "    }\n",
       "</style>\n",
       "<table border=\"1\" class=\"dataframe\">\n",
       "  <thead>\n",
       "    <tr style=\"text-align: right;\">\n",
       "      <th></th>\n",
       "      <th>SEASON</th>\n",
       "      <th>ORIGIN</th>\n",
       "      <th>DEST</th>\n",
       "      <th>PSGR_COUNT</th>\n",
       "      <th>ORIGIN_CNT_CODE</th>\n",
       "      <th>ORIGIN_REG_NAME</th>\n",
       "      <th>ORIGIN_AIR_NAME</th>\n",
       "      <th>ORIGIN_LAT</th>\n",
       "      <th>ORIGIN_LON</th>\n",
       "      <th>DEST_CNT_CODE</th>\n",
       "      <th>DEST_REG_NAME</th>\n",
       "      <th>DEST_AIR_NAME</th>\n",
       "      <th>DEST_LAT</th>\n",
       "      <th>DEST_LON</th>\n",
       "      <th>ORIGIN_CNT_NAME</th>\n",
       "      <th>DEST_CNT_NAME</th>\n",
       "    </tr>\n",
       "  </thead>\n",
       "  <tbody>\n",
       "    <tr>\n",
       "      <th>0</th>\n",
       "      <td>SUMMER</td>\n",
       "      <td>227</td>\n",
       "      <td>YYZ</td>\n",
       "      <td>6</td>\n",
       "      <td>None</td>\n",
       "      <td>None</td>\n",
       "      <td>None</td>\n",
       "      <td>NaN</td>\n",
       "      <td>NaN</td>\n",
       "      <td>CA</td>\n",
       "      <td>Ontario</td>\n",
       "      <td>Toronto Pearson International Airport</td>\n",
       "      <td>43.6797</td>\n",
       "      <td>-79.6227</td>\n",
       "      <td>None</td>\n",
       "      <td>Canada</td>\n",
       "    </tr>\n",
       "    <tr>\n",
       "      <th>1</th>\n",
       "      <td>SUMMER</td>\n",
       "      <td>224</td>\n",
       "      <td>222</td>\n",
       "      <td>3</td>\n",
       "      <td>None</td>\n",
       "      <td>None</td>\n",
       "      <td>None</td>\n",
       "      <td>NaN</td>\n",
       "      <td>NaN</td>\n",
       "      <td>None</td>\n",
       "      <td>None</td>\n",
       "      <td>None</td>\n",
       "      <td>NaN</td>\n",
       "      <td>NaN</td>\n",
       "      <td>None</td>\n",
       "      <td>None</td>\n",
       "    </tr>\n",
       "    <tr>\n",
       "      <th>2</th>\n",
       "      <td>SUMMER</td>\n",
       "      <td>226</td>\n",
       "      <td>JF8</td>\n",
       "      <td>1</td>\n",
       "      <td>None</td>\n",
       "      <td>None</td>\n",
       "      <td>None</td>\n",
       "      <td>NaN</td>\n",
       "      <td>NaN</td>\n",
       "      <td>None</td>\n",
       "      <td>None</td>\n",
       "      <td>None</td>\n",
       "      <td>NaN</td>\n",
       "      <td>NaN</td>\n",
       "      <td>None</td>\n",
       "      <td>None</td>\n",
       "    </tr>\n",
       "    <tr>\n",
       "      <th>3</th>\n",
       "      <td>SUMMER</td>\n",
       "      <td>227</td>\n",
       "      <td>3RG</td>\n",
       "      <td>11</td>\n",
       "      <td>None</td>\n",
       "      <td>None</td>\n",
       "      <td>None</td>\n",
       "      <td>NaN</td>\n",
       "      <td>NaN</td>\n",
       "      <td>None</td>\n",
       "      <td>None</td>\n",
       "      <td>None</td>\n",
       "      <td>NaN</td>\n",
       "      <td>NaN</td>\n",
       "      <td>None</td>\n",
       "      <td>None</td>\n",
       "    </tr>\n",
       "    <tr>\n",
       "      <th>4</th>\n",
       "      <td>SUMMER</td>\n",
       "      <td>227</td>\n",
       "      <td>6RV</td>\n",
       "      <td>245</td>\n",
       "      <td>None</td>\n",
       "      <td>None</td>\n",
       "      <td>None</td>\n",
       "      <td>NaN</td>\n",
       "      <td>NaN</td>\n",
       "      <td>None</td>\n",
       "      <td>None</td>\n",
       "      <td>None</td>\n",
       "      <td>NaN</td>\n",
       "      <td>NaN</td>\n",
       "      <td>None</td>\n",
       "      <td>None</td>\n",
       "    </tr>\n",
       "  </tbody>\n",
       "</table>\n",
       "</div>"
      ],
      "text/plain": [
       "   SEASON ORIGIN DEST  PSGR_COUNT ORIGIN_CNT_CODE ORIGIN_REG_NAME  \\\n",
       "0  SUMMER    227  YYZ           6            None            None   \n",
       "1  SUMMER    224  222           3            None            None   \n",
       "2  SUMMER    226  JF8           1            None            None   \n",
       "3  SUMMER    227  3RG          11            None            None   \n",
       "4  SUMMER    227  6RV         245            None            None   \n",
       "\n",
       "  ORIGIN_AIR_NAME  ORIGIN_LAT  ORIGIN_LON DEST_CNT_CODE DEST_REG_NAME  \\\n",
       "0            None         NaN         NaN            CA       Ontario   \n",
       "1            None         NaN         NaN          None          None   \n",
       "2            None         NaN         NaN          None          None   \n",
       "3            None         NaN         NaN          None          None   \n",
       "4            None         NaN         NaN          None          None   \n",
       "\n",
       "                           DEST_AIR_NAME  DEST_LAT  DEST_LON ORIGIN_CNT_NAME  \\\n",
       "0  Toronto Pearson International Airport   43.6797  -79.6227            None   \n",
       "1                                   None       NaN       NaN            None   \n",
       "2                                   None       NaN       NaN            None   \n",
       "3                                   None       NaN       NaN            None   \n",
       "4                                   None       NaN       NaN            None   \n",
       "\n",
       "  DEST_CNT_NAME  \n",
       "0        Canada  \n",
       "1          None  \n",
       "2          None  \n",
       "3          None  \n",
       "4          None  "
      ]
     },
     "execution_count": 13,
     "metadata": {},
     "output_type": "execute_result"
    }
   ],
   "source": [
    "df.limit(5).toPandas()"
   ]
  },
  {
   "cell_type": "code",
   "execution_count": 14,
   "id": "32bb965b-79b0-402c-b1a2-4e78e20e79d2",
   "metadata": {},
   "outputs": [
    {
     "name": "stdout",
     "output_type": "stream",
     "text": [
      "+------+\n",
      "|SEASON|\n",
      "+------+\n",
      "|SUMMER|\n",
      "|WINTER|\n",
      "+------+\n",
      "\n"
     ]
    }
   ],
   "source": [
    "df.select(\"SEASON\").distinct().show()"
   ]
  },
  {
   "cell_type": "code",
   "execution_count": 15,
   "id": "03967436-ddb3-4a70-9ef8-680528d42ca9",
   "metadata": {},
   "outputs": [
    {
     "data": {
      "text/plain": [
       "4210"
      ]
     },
     "execution_count": 15,
     "metadata": {},
     "output_type": "execute_result"
    }
   ],
   "source": [
    "df.select(\"ORIGIN\").distinct().count()"
   ]
  },
  {
   "cell_type": "code",
   "execution_count": 16,
   "id": "ef9e19b4-8286-4693-8b6d-1fd2d5dfdd91",
   "metadata": {},
   "outputs": [
    {
     "data": {
      "text/plain": [
       "4300"
      ]
     },
     "execution_count": 16,
     "metadata": {},
     "output_type": "execute_result"
    }
   ],
   "source": [
    "df.select(\"DEST\").distinct().count()"
   ]
  },
  {
   "cell_type": "code",
   "execution_count": 17,
   "id": "dab95e45-5c92-4b3a-a5f5-a40e8d90adf3",
   "metadata": {},
   "outputs": [
    {
     "data": {
      "image/png": "[encoded data removed]",
      "text/plain": [
       "<Figure size 600x400 with 1 Axes>"
      ]
     },
     "metadata": {},
     "output_type": "display_data"
    },
    {
     "data": {
      "text/plain": [
       "0"
      ]
     },
     "execution_count": 17,
     "metadata": {},
     "output_type": "execute_result"
    }
   ],
   "source": [
    "import matplotlib.pyplot as plt\n",
    "\n",
    "plt.figure(figsize=(6, 4))\n",
    "plt.boxplot(df.select(\"PSGR_COUNT\").toPandas()[\"PSGR_COUNT\"])\n",
    "plt.title(\"PSGR_COUNT Distribution and Outliers\")\n",
    "plt.ylabel(\"PSGR_COUNT\")\n",
    "plt.show()\n",
    "\n",
    "df.filter(F.col(\"PSGR_COUNT\") <= 0).count()"
   ]
  },
  {
   "cell_type": "code",
   "execution_count": 18,
   "id": "da01adc1-c56d-4001-8ad4-19adee8b12f8",
   "metadata": {},
   "outputs": [
    {
     "name": "stdout",
     "output_type": "stream",
     "text": [
      "SEASON missing value counts: 0\n",
      "ORIGIN missing value counts: 0\n",
      "DEST missing value counts: 0\n",
      "PSGR_COUNT missing value counts: 0\n",
      "ORIGIN_CNT_CODE missing value counts: 1194292\n",
      "ORIGIN_REG_NAME missing value counts: 1194292\n",
      "ORIGIN_AIR_NAME missing value counts: 1194292\n",
      "ORIGIN_LAT missing value counts: 1194292\n",
      "ORIGIN_LON missing value counts: 1194292\n",
      "DEST_CNT_CODE missing value counts: 1194061\n",
      "DEST_REG_NAME missing value counts: 1194061\n",
      "DEST_AIR_NAME missing value counts: 1194061\n",
      "DEST_LAT missing value counts: 1194061\n",
      "DEST_LON missing value counts: 1194061\n",
      "ORIGIN_CNT_NAME missing value counts: 1194292\n",
      "DEST_CNT_NAME missing value counts: 1194061\n"
     ]
    }
   ],
   "source": [
    "for column in df.columns:\n",
    "    missing_count = df.where(F.col(column).isNull()).count()\n",
    "    print(f\"{column} missing value counts: {missing_count}\")"
   ]
  },
  {
   "cell_type": "markdown",
   "id": "1750dd1d-2904-4989-a164-424f28dd88a0",
   "metadata": {},
   "source": [
    "## Step 2: Data Cleaning"
   ]
  },
  {
   "cell_type": "markdown",
   "id": "77e92622-6cee-4d23-a316-606ac6dce864",
   "metadata": {},
   "source": [
    "The following code checks whether the values in the `ORIGIN` and `DEST` columns consist of three uppercase letters. It labels valid entries as `1` in the `VALID_ORIGIN` and `VALID_DEST` columns and others as `0`. Then, rows with only valid `ORIGIN` and `DEST` values are filtered, the `VALID_ORIGIN` and `VALID_DEST` columns are dropped from the dataframe."
   ]
  },
  {
   "cell_type": "code",
   "execution_count": 19,
   "id": "a02c4a6d-ee6c-4399-9f3a-af8ad0bc883b",
   "metadata": {},
   "outputs": [],
   "source": [
    "df_processed = (df\n",
    "    .withColumn(\"VALID_ORIGIN\", F.when(F.col(\"ORIGIN\").rlike(\"[A-Z]{3}\"), 1).otherwise(0))\n",
    "    .withColumn(\"VALID_DEST\", F.when(F.col(\"DEST\").rlike(\"[A-Z]{3}\"), 1).otherwise(0))\n",
    "    .filter((F.col(\"VALID_ORIGIN\") == 1) & (F.col(\"VALID_DEST\") == 1))\n",
    "    .drop(\"VALID_ORIGIN\", \"VALID_DEST\")\n",
    ")"
   ]
  },
  {
   "cell_type": "markdown",
   "id": "f2b7280c-3d14-44cf-bb53-1cd5224ede5c",
   "metadata": {},
   "source": [
    "The following code filters out rows with null values in the `ORIGIN_CNT_CODE` and `DEST_CNT_CODE` columns. In other words, only the rows with valid values in both columns remain in the dataframe."
   ]
  },
  {
   "cell_type": "code",
   "execution_count": 20,
   "id": "77e9c2f7-62fc-4c69-b392-81d22a17159e",
   "metadata": {},
   "outputs": [],
   "source": [
    "df_processed = df_processed.filter(\n",
    "    F.col(\"ORIGIN_CNT_CODE\").isNotNull() & F.col(\"DEST_CNT_CODE\").isNotNull()\n",
    ")"
   ]
  },
  {
   "cell_type": "markdown",
   "id": "0e987f84-b177-4988-a622-b4825ccc78d0",
   "metadata": {},
   "source": [
    "The following code checks whether the values in the `ORIGIN_LAT`, `ORIGIN_LON`, `DEST_LAT`, `DEST_LON` columns fall within valid geographic coordinate ranges. Values between `-90` and `90` for `ORIGIN_LAT` and `DEST_LAT`, values between `-180` and `180` for `ORIGIN_LON` and `DEST_LON` are selected, rows with valid coordinates remain in the dataframe."
   ]
  },
  {
   "cell_type": "code",
   "execution_count": 21,
   "id": "a03a105e-9909-40a7-834e-c23ca4b84715",
   "metadata": {},
   "outputs": [],
   "source": [
    "df_processed = df_processed.filter(\n",
    "    (F.col(\"ORIGIN_LAT\").between(-90, 90)) & \n",
    "    (F.col(\"ORIGIN_LON\").between(-180, 180)) &\n",
    "    (F.col(\"DEST_LAT\").between(-90, 90)) &\n",
    "    (F.col(\"DEST_LON\").between(-180, 180))\n",
    ")"
   ]
  },
  {
   "cell_type": "markdown",
   "id": "a0ef1fba-55e5-42c8-bbbc-b549f3716889",
   "metadata": {},
   "source": [
    "The following code filters out the outliers in the `PSGR_COUNT` column based on the interquartile range (IQR). First, the 1st quartile (`Q1`) and 3rd quartile (`Q3`) values for `PSGR_COUNT` are calculated, then the `IQR` (`Q3 - Q1`) is determined. Outliers are defined as values outside the range of `Q1 - 1.5 * IQR` and `Q3 + 1.5 * IQR`, these outliers are filtered out and removed from the dataframe."
   ]
  },
  {
   "cell_type": "code",
   "execution_count": 22,
   "id": "ac56606a-19ae-4b97-bd9b-189351a6c195",
   "metadata": {},
   "outputs": [],
   "source": [
    "quantiles = df_processed.approxQuantile(\"PSGR_COUNT\", [0.25, 0.75], 0.05)\n",
    "Q1, Q3 = quantiles[0], quantiles[1]\n",
    "IQR = Q3 - Q1\n",
    "LOWER_BOUND = Q1 - 1.5 * IQR\n",
    "UPPER_BOUND = Q3 + 1.5 * IQR\n",
    "\n",
    "df_processed = df_processed.filter(\n",
    "    (df_processed[\"PSGR_COUNT\"] >= LOWER_BOUND) & (df_processed[\"PSGR_COUNT\"] <= UPPER_BOUND)\n",
    ")"
   ]
  },
  {
   "cell_type": "markdown",
   "id": "dd3907db-107b-4aa9-95a8-e1d54be82c24",
   "metadata": {},
   "source": [
    "## Step 3: Feature Engineering"
   ]
  },
  {
   "cell_type": "markdown",
   "id": "0decd481-68d0-41d7-a2d7-759e9eaab30d",
   "metadata": {},
   "source": [
    "The following code classifies the latitude values in the `ORIGIN_LAT` and `DEST_LAT` columns as `NORTH`, `SOUTH`, or `EQUATOR`, then combines them to create the `ROUTE_HEM` column. Finally, the temporary `ORIGIN_HEM` and `DEST_HEM` columns are removed from the dataframe."
   ]
  },
  {
   "cell_type": "code",
   "execution_count": 23,
   "id": "7eb1ed58-f0f5-4618-910e-ea2a50116ef5",
   "metadata": {},
   "outputs": [],
   "source": [
    "df_processed = (df_processed\n",
    "    .withColumn(\"ORIGIN_HEM\", F.when(\n",
    "        F.col(\"ORIGIN_LAT\") > 0, \"NORTH\").when(F.col(\"ORIGIN_LAT\") < 0, \"SOUTH\").otherwise(\"EQUATOR\"))\n",
    "    .withColumn(\"DEST_HEM\", F.when(\n",
    "        F.col(\"DEST_LAT\") > 0, \"NORTH\").when(F.col(\"DEST_LAT\") < 0, \"SOUTH\").otherwise(\"EQUATOR\"))\n",
    "    .withColumn(\"ROUTE_HEM\", F.concat(F.col(\"ORIGIN_HEM\"), F.lit(\"→\"), F.col(\"DEST_HEM\")))\n",
    "    .drop(\"ORIGIN_HEM\", \"DEST_HEM\")\n",
    ")"
   ]
  },
  {
   "cell_type": "markdown",
   "id": "f2422c60-1d55-4ac6-bd66-d21272527bab",
   "metadata": {},
   "source": [
    "The following code combines the values in the `ORIGIN` and `DEST` columns to create the `ROUTE` column. This new column contains route information with the two values joined by the `→` symbol."
   ]
  },
  {
   "cell_type": "code",
   "execution_count": 24,
   "id": "e727de39-054c-4833-b687-d54e10796cb3",
   "metadata": {},
   "outputs": [],
   "source": [
    "df_processed = (df_processed\n",
    "    .withColumn(\"ROUTE\", F.concat(F.col(\"ORIGIN\"), F.lit(\"→\"), F.col(\"DEST\")))\n",
    ")"
   ]
  },
  {
   "cell_type": "markdown",
   "id": "a22f4705-ccab-450a-b302-b7db4d8777bb",
   "metadata": {},
   "source": [
    "The following code calculates the distance between the `ORIGIN_LAT`, `ORIGIN_LON`, `DEST_LAT`, `DEST_LON` columns using the Haversine formula and stores it in the `ROUTE_DST` column. This calculation returns the great-circle distance between the two points in kilometers. Finally, the temporary `ORIGIN_LAT`, `ORIGIN_LON`, `DEST_LAT`, `DEST_LON` columns are removed from the dataframe."
   ]
  },
  {
   "cell_type": "code",
   "execution_count": 25,
   "id": "45daa6a2-5a17-4b91-a12d-a6b7c6d59aaf",
   "metadata": {},
   "outputs": [],
   "source": [
    "R = 6371  \n",
    "\n",
    "df_processed = df_processed.withColumn(\n",
    "    \"ROUTE_DST\",\n",
    "    R * 2 * F.atan2(\n",
    "        F.sqrt(\n",
    "            F.sin(F.radians(F.col(\"DEST_LAT\") - F.col(\"ORIGIN_LAT\")) / 2) ** 2 +\n",
    "            F.cos(F.radians(F.col(\"ORIGIN_LAT\"))) *\n",
    "            F.cos(F.radians(F.col(\"DEST_LAT\"))) *\n",
    "            F.sin(F.radians(F.col(\"DEST_LON\") - F.col(\"ORIGIN_LON\")) / 2) ** 2\n",
    "        ),\n",
    "        F.sqrt(1 - (\n",
    "            F.sin(F.radians(F.col(\"DEST_LAT\") - F.col(\"ORIGIN_LAT\")) / 2) ** 2 +\n",
    "            F.cos(F.radians(F.col(\"ORIGIN_LAT\"))) *\n",
    "            F.cos(F.radians(F.col(\"DEST_LAT\"))) *\n",
    "            F.sin(F.radians(F.col(\"DEST_LON\") - F.col(\"ORIGIN_LON\")) / 2) ** 2\n",
    "        ))\n",
    "    )\n",
    ").drop(\"ORIGIN_LAT\", \"ORIGIN_LON\", \"DEST_LAT\", \"DEST_LON\")"
   ]
  },
  {
   "cell_type": "markdown",
   "id": "80708897-d2aa-4344-b2bd-848234948350",
   "metadata": {},
   "source": [
    "The following code determines the flight type based on the country codes in the `ORIGIN_CNT_CODE` and `DEST_CNT_CODE` columns. If both codes are `TR`, the flight type is assigned as `DOMESTIC`; otherwise, it is assigned as `INTERNATIONAL`. This value is stored in the `FLIGHT_TYPE` column."
   ]
  },
  {
   "cell_type": "code",
   "execution_count": 26,
   "id": "2064f73d-ffbb-4e59-b6ab-e0a0a09a1f31",
   "metadata": {},
   "outputs": [],
   "source": [
    "df_processed = (df_processed\n",
    "    .withColumn(\"FLIGHT_TYPE\", F.when(\n",
    "        (F.col(\"ORIGIN_CNT_CODE\") == \"TR\") & (F.col(\"DEST_CNT_CODE\") == \"TR\"), \"DOMESTIC\"\n",
    "    ).otherwise(\"INTERNATIONAL\"))\n",
    ")"
   ]
  },
  {
   "cell_type": "markdown",
   "id": "5486d4fc-a488-4910-bb52-a504cb59ae49",
   "metadata": {},
   "source": [
    "The following code divides the `PSGR_COUNT` column into three categories: `LOW`, `MEDIUM`, `HIGH`, based on the minimum and maximum values in the column. These categories are determined based on the range between the minimum and maximum values, each flight's passenger count is labeled with one of these categories. These labels are stored in the `PSGR_COUNT_CAT` column."
   ]
  },
  {
   "cell_type": "code",
   "execution_count": 27,
   "id": "16710c40-9d33-4a2f-aa45-4d893d9d53b3",
   "metadata": {},
   "outputs": [],
   "source": [
    "MIN_PSGR_COUNT = df_processed.agg({\"PSGR_COUNT\": \"min\"}).collect()[0][0]\n",
    "MAX_PSGR_COUNT = df_processed.agg({\"PSGR_COUNT\": \"max\"}).collect()[0][0]\n",
    "RANGE_PSGR = MAX_PSGR_COUNT - MIN_PSGR_COUNT\n",
    "\n",
    "df_processed = df_processed.withColumn(\n",
    "    \"PSGR_COUNT_CAT\",\n",
    "    F.when(F.col(\"PSGR_COUNT\") <= (MIN_PSGR_COUNT + RANGE_PSGR / 3), \"LOW\")\n",
    "    .when((F.col(\"PSGR_COUNT\") > (MIN_PSGR_COUNT + RANGE_PSGR / 3)) & (F.col(\"PSGR_COUNT\") <= (MIN_PSGR_COUNT + 2 * RANGE_PSGR / 3)), \"MEDIUM\")\n",
    "    .otherwise(\"HIGH\")\n",
    ")"
   ]
  },
  {
   "cell_type": "markdown",
   "id": "d03eb9cb-76bb-42ba-bd78-9e96bdcc2db2",
   "metadata": {},
   "source": [
    "The following code divides the `ROUTE_DST` column into three categories: `SHORT`, `MEDIUM`, `LONG`, based on the minimum and maximum distance values. These categories are determined based on the range between the minimum and maximum distances, each route's distance is labeled with one of these categories. These labels are stored in the `ROUTE_DST_BKT` column."
   ]
  },
  {
   "cell_type": "code",
   "execution_count": 28,
   "id": "24cfdaa0-74d8-45fc-a6f7-0468d70f8d80",
   "metadata": {},
   "outputs": [],
   "source": [
    "MIN_DST = df_processed.agg({\"ROUTE_DST\": \"min\"}).collect()[0][0]\n",
    "MAX_DST = df_processed.agg({\"ROUTE_DST\": \"max\"}).collect()[0][0]\n",
    "RANGE_DST = MAX_DST - MIN_DST\n",
    "\n",
    "df_processed = df_processed.withColumn(\n",
    "    \"ROUTE_DST_BKT\",\n",
    "    F.when(F.col(\"ROUTE_DST\") <= (MIN_DST + RANGE_DST / 3), \"SHORT\")\n",
    "    .when((F.col(\"ROUTE_DST\") > (MIN_DST + RANGE_DST / 3)) & (F.col(\"ROUTE_DST\") <= (MIN_DST + 2 * RANGE_DST / 3)), \"MEDIUM\")\n",
    "    .otherwise(\"LONG\")\n",
    ")"
   ]
  },
  {
   "cell_type": "markdown",
   "id": "3d864bbd-e520-4c0c-8d62-55d688fc1d8d",
   "metadata": {},
   "source": [
    "The following code combines the values in the `SEASON`, `PSGR_COUNT_CAT`, `ROUTE_DST_BKT` columns to create the `FLIGHT_SEG` column. This new column labels each flight with the season, passenger count category, route distance category, using the `_` symbol to separate the labels."
   ]
  },
  {
   "cell_type": "code",
   "execution_count": 29,
   "id": "19ab44d7-6a08-4778-836d-688dadf7ae3b",
   "metadata": {},
   "outputs": [],
   "source": [
    "df_processed = (df_processed\n",
    "    .withColumn(\"FLIGHT_SEG\", F.concat(F.col(\"SEASON\"), F.lit(\"_\"), F.col(\"PSGR_COUNT_CAT\"), F.lit(\"_\"), F.col(\"ROUTE_DST_BKT\")))\n",
    ")"
   ]
  },
  {
   "cell_type": "markdown",
   "id": "c09af50c-bbf8-4a11-ad4b-a1350f9527a7",
   "metadata": {},
   "source": [
    "The following code reorders the columns in the `df_processed` dataframe to improve readability:"
   ]
  },
  {
   "cell_type": "code",
   "execution_count": 30,
   "id": "195ad511-617f-4355-b25f-07395df2e8d6",
   "metadata": {},
   "outputs": [],
   "source": [
    "columns = [\n",
    "    \"SEASON\", \"ORIGIN\", \"DEST\", \"PSGR_COUNT\",\n",
    "    \"PSGR_COUNT_CAT\",\n",
    "    \"ORIGIN_CNT_CODE\", \"ORIGIN_CNT_NAME\", \"ORIGIN_REG_NAME\", \"ORIGIN_AIR_NAME\", \n",
    "    \"DEST_CNT_CODE\", \"DEST_CNT_NAME\", \"DEST_REG_NAME\", \"DEST_AIR_NAME\", \n",
    "    \"ROUTE\", \"ROUTE_DST\", \"ROUTE_DST_BKT\", \"ROUTE_HEM\",\n",
    "    \"FLIGHT_TYPE\", \"FLIGHT_SEG\"\n",
    "]\n",
    "\n",
    "df_processed = df_processed.select(*columns)"
   ]
  },
  {
   "cell_type": "code",
   "execution_count": 31,
   "id": "06831239-0746-4723-8889-c1ec361c7406",
   "metadata": {},
   "outputs": [],
   "source": [
    "df_processed.repartition(12).write.mode(\"overwrite\").saveAsTable(f\"{hive_db}.{processed_table}\")"
   ]
  },
  {
   "cell_type": "markdown",
   "id": "b3cfe686-9f2f-41a4-80bc-993fdb140315",
   "metadata": {},
   "source": [
    "### Data Analysis: Structure, Summary Statistics and Missing Data Check"
   ]
  },
  {
   "cell_type": "code",
   "execution_count": 32,
   "id": "230fd396-1d41-4a2d-bc86-e19d2136424f",
   "metadata": {},
   "outputs": [
    {
     "name": "stdout",
     "output_type": "stream",
     "text": [
      "root\n",
      " |-- SEASON: string (nullable = true)\n",
      " |-- ORIGIN: string (nullable = true)\n",
      " |-- DEST: string (nullable = true)\n",
      " |-- PSGR_COUNT: integer (nullable = true)\n",
      " |-- PSGR_COUNT_CAT: string (nullable = false)\n",
      " |-- ORIGIN_CNT_CODE: string (nullable = true)\n",
      " |-- ORIGIN_CNT_NAME: string (nullable = true)\n",
      " |-- ORIGIN_REG_NAME: string (nullable = true)\n",
      " |-- ORIGIN_AIR_NAME: string (nullable = true)\n",
      " |-- DEST_CNT_CODE: string (nullable = true)\n",
      " |-- DEST_CNT_NAME: string (nullable = true)\n",
      " |-- DEST_REG_NAME: string (nullable = true)\n",
      " |-- DEST_AIR_NAME: string (nullable = true)\n",
      " |-- ROUTE: string (nullable = true)\n",
      " |-- ROUTE_DST: double (nullable = true)\n",
      " |-- ROUTE_DST_BKT: string (nullable = false)\n",
      " |-- ROUTE_HEM: string (nullable = false)\n",
      " |-- FLIGHT_TYPE: string (nullable = false)\n",
      " |-- FLIGHT_SEG: string (nullable = true)\n",
      "\n"
     ]
    }
   ],
   "source": [
    "df_processed.printSchema()"
   ]
  },
  {
   "cell_type": "code",
   "execution_count": 33,
   "id": "b3b61f1c-e10c-4743-b819-56784fd933b0",
   "metadata": {},
   "outputs": [
    {
     "data": {
      "text/plain": [
       "130767"
      ]
     },
     "execution_count": 33,
     "metadata": {},
     "output_type": "execute_result"
    }
   ],
   "source": [
    "df_processed.count()"
   ]
  },
  {
   "cell_type": "code",
   "execution_count": 34,
   "id": "7f1a2706-6866-4a10-a0fb-d24aad583e14",
   "metadata": {},
   "outputs": [
    {
     "data": {
      "text/html": [
       "<div>\n",
       "<style scoped>\n",
       "    .dataframe tbody tr th:only-of-type {\n",
       "        vertical-align: middle;\n",
       "    }\n",
       "\n",
       "    .dataframe tbody tr th {\n",
       "        vertical-align: top;\n",
       "    }\n",
       "\n",
       "    .dataframe thead th {\n",
       "        text-align: right;\n",
       "    }\n",
       "</style>\n",
       "<table border=\"1\" class=\"dataframe\">\n",
       "  <thead>\n",
       "    <tr style=\"text-align: right;\">\n",
       "      <th></th>\n",
       "      <th>SEASON</th>\n",
       "      <th>ORIGIN</th>\n",
       "      <th>DEST</th>\n",
       "      <th>PSGR_COUNT</th>\n",
       "      <th>PSGR_COUNT_CAT</th>\n",
       "      <th>ORIGIN_CNT_CODE</th>\n",
       "      <th>ORIGIN_CNT_NAME</th>\n",
       "      <th>ORIGIN_REG_NAME</th>\n",
       "      <th>ORIGIN_AIR_NAME</th>\n",
       "      <th>DEST_CNT_CODE</th>\n",
       "      <th>DEST_CNT_NAME</th>\n",
       "      <th>DEST_REG_NAME</th>\n",
       "      <th>DEST_AIR_NAME</th>\n",
       "      <th>ROUTE</th>\n",
       "      <th>ROUTE_DST</th>\n",
       "      <th>ROUTE_DST_BKT</th>\n",
       "      <th>ROUTE_HEM</th>\n",
       "      <th>FLIGHT_TYPE</th>\n",
       "      <th>FLIGHT_SEG</th>\n",
       "    </tr>\n",
       "  </thead>\n",
       "  <tbody>\n",
       "    <tr>\n",
       "      <th>0</th>\n",
       "      <td>SUMMER</td>\n",
       "      <td>CCJ</td>\n",
       "      <td>GJL</td>\n",
       "      <td>3</td>\n",
       "      <td>LOW</td>\n",
       "      <td>IN</td>\n",
       "      <td>India</td>\n",
       "      <td>Kerala</td>\n",
       "      <td>Calicut International Airport</td>\n",
       "      <td>DZ</td>\n",
       "      <td>Algeria</td>\n",
       "      <td>Jijel</td>\n",
       "      <td>Jijel Ferhat Abbas Airport</td>\n",
       "      <td>CCJ→GJL</td>\n",
       "      <td>7500.972132</td>\n",
       "      <td>MEDIUM</td>\n",
       "      <td>NORTH→NORTH</td>\n",
       "      <td>INTERNATIONAL</td>\n",
       "      <td>SUMMER_LOW_MEDIUM</td>\n",
       "    </tr>\n",
       "    <tr>\n",
       "      <th>1</th>\n",
       "      <td>SUMMER</td>\n",
       "      <td>CCJ</td>\n",
       "      <td>YYC</td>\n",
       "      <td>24</td>\n",
       "      <td>LOW</td>\n",
       "      <td>IN</td>\n",
       "      <td>India</td>\n",
       "      <td>Kerala</td>\n",
       "      <td>Calicut International Airport</td>\n",
       "      <td>CA</td>\n",
       "      <td>Canada</td>\n",
       "      <td>Alberta</td>\n",
       "      <td>Calgary International Airport</td>\n",
       "      <td>CCJ→YYC</td>\n",
       "      <td>13026.274212</td>\n",
       "      <td>MEDIUM</td>\n",
       "      <td>NORTH→NORTH</td>\n",
       "      <td>INTERNATIONAL</td>\n",
       "      <td>SUMMER_LOW_MEDIUM</td>\n",
       "    </tr>\n",
       "    <tr>\n",
       "      <th>2</th>\n",
       "      <td>SUMMER</td>\n",
       "      <td>CCJ</td>\n",
       "      <td>GUW</td>\n",
       "      <td>21</td>\n",
       "      <td>LOW</td>\n",
       "      <td>IN</td>\n",
       "      <td>India</td>\n",
       "      <td>Kerala</td>\n",
       "      <td>Calicut International Airport</td>\n",
       "      <td>KZ</td>\n",
       "      <td>Kazakhstan</td>\n",
       "      <td>Atyrau oblysy</td>\n",
       "      <td>Atyrau Airport</td>\n",
       "      <td>CCJ→GUW</td>\n",
       "      <td>4596.692608</td>\n",
       "      <td>SHORT</td>\n",
       "      <td>NORTH→NORTH</td>\n",
       "      <td>INTERNATIONAL</td>\n",
       "      <td>SUMMER_LOW_SHORT</td>\n",
       "    </tr>\n",
       "    <tr>\n",
       "      <th>3</th>\n",
       "      <td>SUMMER</td>\n",
       "      <td>CCP</td>\n",
       "      <td>RUH</td>\n",
       "      <td>1</td>\n",
       "      <td>LOW</td>\n",
       "      <td>CL</td>\n",
       "      <td>Chile</td>\n",
       "      <td>Biobio</td>\n",
       "      <td>Carriel Sur International Airport</td>\n",
       "      <td>SA</td>\n",
       "      <td>Saudi Arabia</td>\n",
       "      <td>Ar Riyad</td>\n",
       "      <td>King Khalid International Airport</td>\n",
       "      <td>CCP→RUH</td>\n",
       "      <td>14212.168845</td>\n",
       "      <td>LONG</td>\n",
       "      <td>SOUTH→NORTH</td>\n",
       "      <td>INTERNATIONAL</td>\n",
       "      <td>SUMMER_LOW_LONG</td>\n",
       "    </tr>\n",
       "    <tr>\n",
       "      <th>4</th>\n",
       "      <td>SUMMER</td>\n",
       "      <td>CCP</td>\n",
       "      <td>GRR</td>\n",
       "      <td>2</td>\n",
       "      <td>LOW</td>\n",
       "      <td>CL</td>\n",
       "      <td>Chile</td>\n",
       "      <td>Biobio</td>\n",
       "      <td>Carriel Sur International Airport</td>\n",
       "      <td>US</td>\n",
       "      <td>United States</td>\n",
       "      <td>Michigan</td>\n",
       "      <td>Gerald R. Ford International Airport</td>\n",
       "      <td>CCP→GRR</td>\n",
       "      <td>8946.482733</td>\n",
       "      <td>MEDIUM</td>\n",
       "      <td>SOUTH→NORTH</td>\n",
       "      <td>INTERNATIONAL</td>\n",
       "      <td>SUMMER_LOW_MEDIUM</td>\n",
       "    </tr>\n",
       "  </tbody>\n",
       "</table>\n",
       "</div>"
      ],
      "text/plain": [
       "   SEASON ORIGIN DEST  PSGR_COUNT PSGR_COUNT_CAT ORIGIN_CNT_CODE  \\\n",
       "0  SUMMER    CCJ  GJL           3            LOW              IN   \n",
       "1  SUMMER    CCJ  YYC          24            LOW              IN   \n",
       "2  SUMMER    CCJ  GUW          21            LOW              IN   \n",
       "3  SUMMER    CCP  RUH           1            LOW              CL   \n",
       "4  SUMMER    CCP  GRR           2            LOW              CL   \n",
       "\n",
       "  ORIGIN_CNT_NAME ORIGIN_REG_NAME                    ORIGIN_AIR_NAME  \\\n",
       "0           India          Kerala      Calicut International Airport   \n",
       "1           India          Kerala      Calicut International Airport   \n",
       "2           India          Kerala      Calicut International Airport   \n",
       "3           Chile          Biobio  Carriel Sur International Airport   \n",
       "4           Chile          Biobio  Carriel Sur International Airport   \n",
       "\n",
       "  DEST_CNT_CODE  DEST_CNT_NAME  DEST_REG_NAME  \\\n",
       "0            DZ        Algeria          Jijel   \n",
       "1            CA         Canada        Alberta   \n",
       "2            KZ     Kazakhstan  Atyrau oblysy   \n",
       "3            SA   Saudi Arabia       Ar Riyad   \n",
       "4            US  United States       Michigan   \n",
       "\n",
       "                          DEST_AIR_NAME    ROUTE     ROUTE_DST ROUTE_DST_BKT  \\\n",
       "0            Jijel Ferhat Abbas Airport  CCJ→GJL   7500.972132        MEDIUM   \n",
       "1         Calgary International Airport  CCJ→YYC  13026.274212        MEDIUM   \n",
       "2                        Atyrau Airport  CCJ→GUW   4596.692608         SHORT   \n",
       "3     King Khalid International Airport  CCP→RUH  14212.168845          LONG   \n",
       "4  Gerald R. Ford International Airport  CCP→GRR   8946.482733        MEDIUM   \n",
       "\n",
       "     ROUTE_HEM    FLIGHT_TYPE         FLIGHT_SEG  \n",
       "0  NORTH→NORTH  INTERNATIONAL  SUMMER_LOW_MEDIUM  \n",
       "1  NORTH→NORTH  INTERNATIONAL  SUMMER_LOW_MEDIUM  \n",
       "2  NORTH→NORTH  INTERNATIONAL   SUMMER_LOW_SHORT  \n",
       "3  SOUTH→NORTH  INTERNATIONAL    SUMMER_LOW_LONG  \n",
       "4  SOUTH→NORTH  INTERNATIONAL  SUMMER_LOW_MEDIUM  "
      ]
     },
     "execution_count": 34,
     "metadata": {},
     "output_type": "execute_result"
    }
   ],
   "source": [
    "df_processed.limit(5).toPandas()"
   ]
  },
  {
   "cell_type": "code",
   "execution_count": 35,
   "id": "bb0ed794-c727-46c7-bee8-d1adc1a93b34",
   "metadata": {},
   "outputs": [
    {
     "name": "stdout",
     "output_type": "stream",
     "text": [
      "+--------------+\n",
      "|PSGR_COUNT_CAT|\n",
      "+--------------+\n",
      "|           LOW|\n",
      "|        MEDIUM|\n",
      "|          HIGH|\n",
      "+--------------+\n",
      "\n"
     ]
    }
   ],
   "source": [
    "df_processed.select(\"PSGR_COUNT_CAT\").distinct().show()"
   ]
  },
  {
   "cell_type": "code",
   "execution_count": 36,
   "id": "1100e162-b96d-4349-8b8b-3ece3f05871f",
   "metadata": {},
   "outputs": [
    {
     "data": {
      "text/plain": [
       "150"
      ]
     },
     "execution_count": 36,
     "metadata": {},
     "output_type": "execute_result"
    }
   ],
   "source": [
    "df_processed.select(\"ORIGIN_CNT_CODE\").distinct().count()"
   ]
  },
  {
   "cell_type": "code",
   "execution_count": 37,
   "id": "a3b98464-23ea-4cc6-8fe0-f7df1ef3af2d",
   "metadata": {},
   "outputs": [
    {
     "data": {
      "text/plain": [
       "145"
      ]
     },
     "execution_count": 37,
     "metadata": {},
     "output_type": "execute_result"
    }
   ],
   "source": [
    "df_processed.select(\"DEST_CNT_CODE\").distinct().count()"
   ]
  },
  {
   "cell_type": "code",
   "execution_count": 38,
   "id": "3d4afe35-9a90-4691-95d5-cbdaca2aaab5",
   "metadata": {},
   "outputs": [
    {
     "data": {
      "text/plain": [
       "85967"
      ]
     },
     "execution_count": 38,
     "metadata": {},
     "output_type": "execute_result"
    }
   ],
   "source": [
    "df_processed.select(\"ROUTE\").distinct().count()"
   ]
  },
  {
   "cell_type": "code",
   "execution_count": 39,
   "id": "2193fe17-bbf2-41ea-ab23-717d717dcd08",
   "metadata": {},
   "outputs": [
    {
     "name": "stdout",
     "output_type": "stream",
     "text": [
      "+-----------+-----------+--------+------------+\n",
      "|    AVG_DST|    STD_DST| MIN_DST|     MAX_DST|\n",
      "+-----------+-----------+--------+------------+\n",
      "|6722.875292|4427.381458|2.822657|19938.726644|\n",
      "+-----------+-----------+--------+------------+\n",
      "\n"
     ]
    }
   ],
   "source": [
    "df_processed.select(\n",
    "    F.round(F.mean(\"ROUTE_DST\"), 6).alias(\"AVG_DST\"),\n",
    "    F.round(F.stddev(\"ROUTE_DST\"), 6).alias(\"STD_DST\"),\n",
    "    F.round(F.min(\"ROUTE_DST\"), 6).alias(\"MIN_DST\"),\n",
    "    F.round(F.max(\"ROUTE_DST\"), 6).alias(\"MAX_DST\")\n",
    ").show()"
   ]
  },
  {
   "cell_type": "code",
   "execution_count": 40,
   "id": "b697ba8d-f457-4e55-926c-e0b61d9ab06d",
   "metadata": {},
   "outputs": [
    {
     "name": "stdout",
     "output_type": "stream",
     "text": [
      "+-------------+\n",
      "|ROUTE_DST_BKT|\n",
      "+-------------+\n",
      "|         LONG|\n",
      "|       MEDIUM|\n",
      "|        SHORT|\n",
      "+-------------+\n",
      "\n"
     ]
    }
   ],
   "source": [
    "df_processed.select(\"ROUTE_DST_BKT\").distinct().show()"
   ]
  },
  {
   "cell_type": "code",
   "execution_count": 41,
   "id": "7b431d24-ff07-4eda-82dd-84f2476c203e",
   "metadata": {},
   "outputs": [
    {
     "name": "stdout",
     "output_type": "stream",
     "text": [
      "+-----------+\n",
      "|  ROUTE_HEM|\n",
      "+-----------+\n",
      "|SOUTH→SOUTH|\n",
      "|SOUTH→NORTH|\n",
      "|NORTH→SOUTH|\n",
      "|NORTH→NORTH|\n",
      "+-----------+\n",
      "\n"
     ]
    }
   ],
   "source": [
    "df_processed.select(\"ROUTE_HEM\").distinct().show()"
   ]
  },
  {
   "cell_type": "code",
   "execution_count": 42,
   "id": "744dd3d7-8473-47f7-bfff-7ccdaaa0efe8",
   "metadata": {},
   "outputs": [
    {
     "name": "stdout",
     "output_type": "stream",
     "text": [
      "+-------------+\n",
      "|  FLIGHT_TYPE|\n",
      "+-------------+\n",
      "|INTERNATIONAL|\n",
      "|     DOMESTIC|\n",
      "+-------------+\n",
      "\n"
     ]
    }
   ],
   "source": [
    "df_processed.select(\"FLIGHT_TYPE\").distinct().show()"
   ]
  },
  {
   "cell_type": "code",
   "execution_count": 43,
   "id": "e6ba885e-bc07-46f5-93d0-6364c8907106",
   "metadata": {},
   "outputs": [
    {
     "name": "stdout",
     "output_type": "stream",
     "text": [
      "+--------------------+\n",
      "|          FLIGHT_SEG|\n",
      "+--------------------+\n",
      "|   SUMMER_LOW_MEDIUM|\n",
      "|    SUMMER_LOW_SHORT|\n",
      "|  SUMMER_MEDIUM_LONG|\n",
      "|    SUMMER_HIGH_LONG|\n",
      "|     SUMMER_LOW_LONG|\n",
      "| SUMMER_MEDIUM_SHORT|\n",
      "|SUMMER_MEDIUM_MEDIUM|\n",
      "|  SUMMER_HIGH_MEDIUM|\n",
      "|   SUMMER_HIGH_SHORT|\n",
      "|   WINTER_HIGH_SHORT|\n",
      "|  WINTER_MEDIUM_LONG|\n",
      "|    WINTER_LOW_SHORT|\n",
      "|   WINTER_LOW_MEDIUM|\n",
      "|     WINTER_LOW_LONG|\n",
      "|WINTER_MEDIUM_MEDIUM|\n",
      "| WINTER_MEDIUM_SHORT|\n",
      "|    WINTER_HIGH_LONG|\n",
      "|  WINTER_HIGH_MEDIUM|\n",
      "+--------------------+\n",
      "\n"
     ]
    }
   ],
   "source": [
    "df_processed.select(\"FLIGHT_SEG\").distinct().show()"
   ]
  },
  {
   "cell_type": "code",
   "execution_count": 44,
   "id": "6c9f321a-fd83-4c63-83f4-7c91e00a4b0e",
   "metadata": {},
   "outputs": [
    {
     "name": "stdout",
     "output_type": "stream",
     "text": [
      "SEASON missing value counts: 0\n",
      "ORIGIN missing value counts: 0\n",
      "DEST missing value counts: 0\n",
      "PSGR_COUNT missing value counts: 0\n",
      "PSGR_COUNT_CAT missing value counts: 0\n",
      "ORIGIN_CNT_CODE missing value counts: 0\n",
      "ORIGIN_CNT_NAME missing value counts: 0\n",
      "ORIGIN_REG_NAME missing value counts: 0\n",
      "ORIGIN_AIR_NAME missing value counts: 0\n",
      "DEST_CNT_CODE missing value counts: 0\n",
      "DEST_CNT_NAME missing value counts: 0\n",
      "DEST_REG_NAME missing value counts: 0\n",
      "DEST_AIR_NAME missing value counts: 0\n",
      "ROUTE missing value counts: 0\n",
      "ROUTE_DST missing value counts: 0\n",
      "ROUTE_DST_BKT missing value counts: 0\n",
      "ROUTE_HEM missing value counts: 0\n",
      "FLIGHT_TYPE missing value counts: 0\n",
      "FLIGHT_SEG missing value counts: 0\n"
     ]
    }
   ],
   "source": [
    "for column in df_processed.columns:\n",
    "    missing_count = df_processed.where(F.col(column).isNull()).count()\n",
    "    print(f\"{column} missing value counts: {missing_count}\")"
   ]
  },
  {
   "cell_type": "markdown",
   "id": "243cd21a-6b67-403f-b378-80fd961d8559",
   "metadata": {},
   "source": [
    "## Step 4: Data Analysis & Visualization"
   ]
  },
  {
   "cell_type": "code",
   "execution_count": 45,
   "id": "bad65190-71d5-4691-9cb9-964cb45cac58",
   "metadata": {},
   "outputs": [
    {
     "data": {
      "image/png": "[encoded data removed]",
      "text/plain": [
       "<Figure size 600x400 with 1 Axes>"
      ]
     },
     "metadata": {},
     "output_type": "display_data"
    },
    {
     "data": {
      "text/html": [
       "<div>\n",
       "<style scoped>\n",
       "    .dataframe tbody tr th:only-of-type {\n",
       "        vertical-align: middle;\n",
       "    }\n",
       "\n",
       "    .dataframe tbody tr th {\n",
       "        vertical-align: top;\n",
       "    }\n",
       "\n",
       "    .dataframe thead th {\n",
       "        text-align: right;\n",
       "    }\n",
       "</style>\n",
       "<table border=\"1\" class=\"dataframe\">\n",
       "  <thead>\n",
       "    <tr style=\"text-align: right;\">\n",
       "      <th></th>\n",
       "      <th>SEASON</th>\n",
       "      <th>TOTAL_PSGR</th>\n",
       "      <th>AVG_PSGR</th>\n",
       "      <th>TOTAL_FLIGHTS</th>\n",
       "    </tr>\n",
       "  </thead>\n",
       "  <tbody>\n",
       "    <tr>\n",
       "      <th>0</th>\n",
       "      <td>SUMMER</td>\n",
       "      <td>819989</td>\n",
       "      <td>11.902356</td>\n",
       "      <td>68893</td>\n",
       "    </tr>\n",
       "    <tr>\n",
       "      <th>1</th>\n",
       "      <td>WINTER</td>\n",
       "      <td>717810</td>\n",
       "      <td>11.601157</td>\n",
       "      <td>61874</td>\n",
       "    </tr>\n",
       "  </tbody>\n",
       "</table>\n",
       "</div>"
      ],
      "text/plain": [
       "   SEASON  TOTAL_PSGR   AVG_PSGR  TOTAL_FLIGHTS\n",
       "0  SUMMER      819989  11.902356          68893\n",
       "1  WINTER      717810  11.601157          61874"
      ]
     },
     "execution_count": 45,
     "metadata": {},
     "output_type": "execute_result"
    }
   ],
   "source": [
    "import matplotlib.pyplot as plt\n",
    "import numpy as np\n",
    "\n",
    "df_current_analysis = df_processed.groupBy(\"SEASON\").agg(\n",
    "    F.sum(\"PSGR_COUNT\").alias(\"TOTAL_PSGR\"),\n",
    "    F.mean(\"PSGR_COUNT\").alias(\"AVG_PSGR\"),\n",
    "    F.count(\"PSGR_COUNT\").alias(\"TOTAL_FLIGHTS\")\n",
    ").sort(F.desc(\"TOTAL_PSGR\")).limit(5).toPandas()\n",
    "\n",
    "plt.figure(figsize=(6, 4))\n",
    "plt.barh(\n",
    "    df_current_analysis[\"SEASON\"],\n",
    "    df_current_analysis[\"TOTAL_PSGR\"],\n",
    "    color=plt.cm.viridis(np.linspace(1, 0, len(df_current_analysis)))\n",
    ")\n",
    "plt.grid(True, linestyle=\"--\", alpha=0.8, axis=\"x\")\n",
    "plt.title(\"Total Number of Passengers by Season\", fontsize=12)\n",
    "plt.xlabel(\"Total Number of Passengers\", fontsize=12)\n",
    "plt.ylabel(\"Season\", fontsize=12)\n",
    "plt.xticks(rotation=45, ha=\"right\")\n",
    "plt.show()\n",
    "\n",
    "df_current_analysis"
   ]
  },
  {
   "cell_type": "code",
   "execution_count": 46,
   "id": "900b82d4-cf9f-4b31-bbb7-d480e0e16e07",
   "metadata": {},
   "outputs": [
    {
     "data": {
      "image/png": "[encoded data removed]",
      "text/plain": [
       "<Figure size 600x400 with 1 Axes>"
      ]
     },
     "metadata": {},
     "output_type": "display_data"
    },
    {
     "data": {
      "text/html": [
       "<div>\n",
       "<style scoped>\n",
       "    .dataframe tbody tr th:only-of-type {\n",
       "        vertical-align: middle;\n",
       "    }\n",
       "\n",
       "    .dataframe tbody tr th {\n",
       "        vertical-align: top;\n",
       "    }\n",
       "\n",
       "    .dataframe thead th {\n",
       "        text-align: right;\n",
       "    }\n",
       "</style>\n",
       "<table border=\"1\" class=\"dataframe\">\n",
       "  <thead>\n",
       "    <tr style=\"text-align: right;\">\n",
       "      <th></th>\n",
       "      <th>ROUTE</th>\n",
       "      <th>ORIGIN_CNT_NAME</th>\n",
       "      <th>DEST_CNT_NAME</th>\n",
       "      <th>TOTAL_PSGR</th>\n",
       "      <th>AVG_PSGR</th>\n",
       "      <th>TOTAL_FLIGHTS</th>\n",
       "    </tr>\n",
       "  </thead>\n",
       "  <tbody>\n",
       "    <tr>\n",
       "      <th>0</th>\n",
       "      <td>RIC→GIG</td>\n",
       "      <td>United States</td>\n",
       "      <td>Brazil</td>\n",
       "      <td>163</td>\n",
       "      <td>81.5</td>\n",
       "      <td>2</td>\n",
       "    </tr>\n",
       "    <tr>\n",
       "      <th>1</th>\n",
       "      <td>CFE→VLC</td>\n",
       "      <td>France</td>\n",
       "      <td>Spain</td>\n",
       "      <td>162</td>\n",
       "      <td>81.0</td>\n",
       "      <td>2</td>\n",
       "    </tr>\n",
       "    <tr>\n",
       "      <th>2</th>\n",
       "      <td>DFW→GLH</td>\n",
       "      <td>United States</td>\n",
       "      <td>United States</td>\n",
       "      <td>161</td>\n",
       "      <td>80.5</td>\n",
       "      <td>2</td>\n",
       "    </tr>\n",
       "    <tr>\n",
       "      <th>3</th>\n",
       "      <td>MRY→DFW</td>\n",
       "      <td>United States</td>\n",
       "      <td>United States</td>\n",
       "      <td>159</td>\n",
       "      <td>79.5</td>\n",
       "      <td>2</td>\n",
       "    </tr>\n",
       "    <tr>\n",
       "      <th>4</th>\n",
       "      <td>CPH→MQP</td>\n",
       "      <td>Denmark</td>\n",
       "      <td>South Africa</td>\n",
       "      <td>159</td>\n",
       "      <td>79.5</td>\n",
       "      <td>2</td>\n",
       "    </tr>\n",
       "    <tr>\n",
       "      <th>5</th>\n",
       "      <td>WLG→YEG</td>\n",
       "      <td>New Zealand</td>\n",
       "      <td>Canada</td>\n",
       "      <td>159</td>\n",
       "      <td>79.5</td>\n",
       "      <td>2</td>\n",
       "    </tr>\n",
       "    <tr>\n",
       "      <th>6</th>\n",
       "      <td>MGQ→ORD</td>\n",
       "      <td>Somalia</td>\n",
       "      <td>United States</td>\n",
       "      <td>159</td>\n",
       "      <td>79.5</td>\n",
       "      <td>2</td>\n",
       "    </tr>\n",
       "    <tr>\n",
       "      <th>7</th>\n",
       "      <td>GLH→DFW</td>\n",
       "      <td>United States</td>\n",
       "      <td>United States</td>\n",
       "      <td>159</td>\n",
       "      <td>79.5</td>\n",
       "      <td>2</td>\n",
       "    </tr>\n",
       "    <tr>\n",
       "      <th>8</th>\n",
       "      <td>PUJ→REC</td>\n",
       "      <td>Dominican Republic</td>\n",
       "      <td>Brazil</td>\n",
       "      <td>159</td>\n",
       "      <td>79.5</td>\n",
       "      <td>2</td>\n",
       "    </tr>\n",
       "    <tr>\n",
       "      <th>9</th>\n",
       "      <td>WDH→XIY</td>\n",
       "      <td>Namibia</td>\n",
       "      <td>China</td>\n",
       "      <td>158</td>\n",
       "      <td>79.0</td>\n",
       "      <td>2</td>\n",
       "    </tr>\n",
       "  </tbody>\n",
       "</table>\n",
       "</div>"
      ],
      "text/plain": [
       "     ROUTE     ORIGIN_CNT_NAME  DEST_CNT_NAME  TOTAL_PSGR  AVG_PSGR  \\\n",
       "0  RIC→GIG       United States         Brazil         163      81.5   \n",
       "1  CFE→VLC              France          Spain         162      81.0   \n",
       "2  DFW→GLH       United States  United States         161      80.5   \n",
       "3  MRY→DFW       United States  United States         159      79.5   \n",
       "4  CPH→MQP             Denmark   South Africa         159      79.5   \n",
       "5  WLG→YEG         New Zealand         Canada         159      79.5   \n",
       "6  MGQ→ORD             Somalia  United States         159      79.5   \n",
       "7  GLH→DFW       United States  United States         159      79.5   \n",
       "8  PUJ→REC  Dominican Republic         Brazil         159      79.5   \n",
       "9  WDH→XIY             Namibia          China         158      79.0   \n",
       "\n",
       "   TOTAL_FLIGHTS  \n",
       "0              2  \n",
       "1              2  \n",
       "2              2  \n",
       "3              2  \n",
       "4              2  \n",
       "5              2  \n",
       "6              2  \n",
       "7              2  \n",
       "8              2  \n",
       "9              2  "
      ]
     },
     "execution_count": 46,
     "metadata": {},
     "output_type": "execute_result"
    }
   ],
   "source": [
    "import matplotlib.pyplot as plt\n",
    "import numpy as np\n",
    "\n",
    "df_current_analysis = df_processed.groupBy([\"ROUTE\", \"ORIGIN_CNT_NAME\", \"DEST_CNT_NAME\"]).agg(\n",
    "    F.sum(\"PSGR_COUNT\").alias(\"TOTAL_PSGR\"),\n",
    "    F.mean(\"PSGR_COUNT\").alias(\"AVG_PSGR\"),\n",
    "    F.count(\"PSGR_COUNT\").alias(\"TOTAL_FLIGHTS\")\n",
    ").sort(F.desc(\"TOTAL_PSGR\")).limit(10).toPandas()\n",
    "\n",
    "plt.figure(figsize=(6, 4))\n",
    "plt.barh(\n",
    "    df_current_analysis[\"ROUTE\"],\n",
    "    df_current_analysis[\"TOTAL_PSGR\"],\n",
    "    color=plt.cm.viridis(np.linspace(1, 0, len(df_current_analysis)))\n",
    ")\n",
    "plt.grid(True, linestyle=\"--\", alpha=0.8, axis=\"x\")\n",
    "plt.title(\"Total Number of Passengers by Route\", fontsize=12)\n",
    "plt.xlabel(\"Total Number of Passengers\", fontsize=12)\n",
    "plt.ylabel(\"Route\", fontsize=12)\n",
    "plt.xticks(rotation=45, ha=\"right\")\n",
    "plt.show()\n",
    "\n",
    "df_current_analysis"
   ]
  },
  {
   "cell_type": "code",
   "execution_count": 47,
   "id": "604c4f18-006f-4f93-ad24-e73dfd3aab58",
   "metadata": {},
   "outputs": [
    {
     "data": {
      "image/png": "[encoded data removed]",
      "text/plain": [
       "<Figure size 600x400 with 1 Axes>"
      ]
     },
     "metadata": {},
     "output_type": "display_data"
    },
    {
     "data": {
      "text/html": [
       "<div>\n",
       "<style scoped>\n",
       "    .dataframe tbody tr th:only-of-type {\n",
       "        vertical-align: middle;\n",
       "    }\n",
       "\n",
       "    .dataframe tbody tr th {\n",
       "        vertical-align: top;\n",
       "    }\n",
       "\n",
       "    .dataframe thead th {\n",
       "        text-align: right;\n",
       "    }\n",
       "</style>\n",
       "<table border=\"1\" class=\"dataframe\">\n",
       "  <thead>\n",
       "    <tr style=\"text-align: right;\">\n",
       "      <th></th>\n",
       "      <th>ROUTE_HEM</th>\n",
       "      <th>TOTAL_PSGR</th>\n",
       "      <th>AVG_PSGR</th>\n",
       "      <th>TOTAL_FLIGHTS</th>\n",
       "    </tr>\n",
       "  </thead>\n",
       "  <tbody>\n",
       "    <tr>\n",
       "      <th>0</th>\n",
       "      <td>NORTH→NORTH</td>\n",
       "      <td>1097659</td>\n",
       "      <td>12.206247</td>\n",
       "      <td>89926</td>\n",
       "    </tr>\n",
       "    <tr>\n",
       "      <th>1</th>\n",
       "      <td>SOUTH→NORTH</td>\n",
       "      <td>177938</td>\n",
       "      <td>10.458328</td>\n",
       "      <td>17014</td>\n",
       "    </tr>\n",
       "    <tr>\n",
       "      <th>2</th>\n",
       "      <td>NORTH→SOUTH</td>\n",
       "      <td>171151</td>\n",
       "      <td>10.233856</td>\n",
       "      <td>16724</td>\n",
       "    </tr>\n",
       "    <tr>\n",
       "      <th>3</th>\n",
       "      <td>SOUTH→SOUTH</td>\n",
       "      <td>91051</td>\n",
       "      <td>12.818668</td>\n",
       "      <td>7103</td>\n",
       "    </tr>\n",
       "  </tbody>\n",
       "</table>\n",
       "</div>"
      ],
      "text/plain": [
       "     ROUTE_HEM  TOTAL_PSGR   AVG_PSGR  TOTAL_FLIGHTS\n",
       "0  NORTH→NORTH     1097659  12.206247          89926\n",
       "1  SOUTH→NORTH      177938  10.458328          17014\n",
       "2  NORTH→SOUTH      171151  10.233856          16724\n",
       "3  SOUTH→SOUTH       91051  12.818668           7103"
      ]
     },
     "execution_count": 47,
     "metadata": {},
     "output_type": "execute_result"
    }
   ],
   "source": [
    "import matplotlib.pyplot as plt\n",
    "import numpy as np\n",
    "\n",
    "df_current_analysis = df_processed.groupBy(\"ROUTE_HEM\").agg(\n",
    "    F.sum(\"PSGR_COUNT\").alias(\"TOTAL_PSGR\"),\n",
    "    F.mean(\"PSGR_COUNT\").alias(\"AVG_PSGR\"),\n",
    "    F.count(\"PSGR_COUNT\").alias(\"TOTAL_FLIGHTS\")\n",
    ").sort(F.desc(\"TOTAL_PSGR\")).toPandas()\n",
    "\n",
    "plt.figure(figsize=(6, 4))\n",
    "plt.barh(\n",
    "    df_current_analysis[\"ROUTE_HEM\"],\n",
    "    df_current_analysis[\"TOTAL_PSGR\"],\n",
    "    color=plt.cm.viridis(np.linspace(1, 0, len(df_current_analysis)))\n",
    ")\n",
    "plt.grid(True, linestyle=\"--\", alpha=0.8, axis=\"x\")\n",
    "plt.title(\"Total Number of Passengers by Route Hemisphere\", fontsize=12)\n",
    "plt.xlabel(\"Total Number of Passengers\", fontsize=12)\n",
    "plt.ylabel(\"Route Hemisphere\", fontsize=12)\n",
    "plt.xticks(rotation=45, ha=\"right\")\n",
    "plt.show()\n",
    "\n",
    "df_current_analysis"
   ]
  },
  {
   "cell_type": "code",
   "execution_count": 48,
   "id": "3d92a36c-1155-4e87-b402-5070ff8660d7",
   "metadata": {},
   "outputs": [
    {
     "data": {
      "image/png": "[encoded data removed]",
      "text/plain": [
       "<Figure size 600x400 with 1 Axes>"
      ]
     },
     "metadata": {},
     "output_type": "display_data"
    },
    {
     "data": {
      "text/html": [
       "<div>\n",
       "<style scoped>\n",
       "    .dataframe tbody tr th:only-of-type {\n",
       "        vertical-align: middle;\n",
       "    }\n",
       "\n",
       "    .dataframe tbody tr th {\n",
       "        vertical-align: top;\n",
       "    }\n",
       "\n",
       "    .dataframe thead th {\n",
       "        text-align: right;\n",
       "    }\n",
       "</style>\n",
       "<table border=\"1\" class=\"dataframe\">\n",
       "  <thead>\n",
       "    <tr style=\"text-align: right;\">\n",
       "      <th></th>\n",
       "      <th>FLIGHT_TYPE</th>\n",
       "      <th>TOTAL_PSGR</th>\n",
       "      <th>AVG_PSGR</th>\n",
       "      <th>TOTAL_FLIGHTS</th>\n",
       "    </tr>\n",
       "  </thead>\n",
       "  <tbody>\n",
       "    <tr>\n",
       "      <th>0</th>\n",
       "      <td>INTERNATIONAL</td>\n",
       "      <td>1537767</td>\n",
       "      <td>11.761034</td>\n",
       "      <td>130751</td>\n",
       "    </tr>\n",
       "    <tr>\n",
       "      <th>1</th>\n",
       "      <td>DOMESTIC</td>\n",
       "      <td>32</td>\n",
       "      <td>2.000000</td>\n",
       "      <td>16</td>\n",
       "    </tr>\n",
       "  </tbody>\n",
       "</table>\n",
       "</div>"
      ],
      "text/plain": [
       "     FLIGHT_TYPE  TOTAL_PSGR   AVG_PSGR  TOTAL_FLIGHTS\n",
       "0  INTERNATIONAL     1537767  11.761034         130751\n",
       "1       DOMESTIC          32   2.000000             16"
      ]
     },
     "execution_count": 48,
     "metadata": {},
     "output_type": "execute_result"
    }
   ],
   "source": [
    "import matplotlib.pyplot as plt\n",
    "import numpy as np\n",
    "\n",
    "df_current_analysis = df_processed.groupBy(\"FLIGHT_TYPE\").agg(\n",
    "    F.sum(\"PSGR_COUNT\").alias(\"TOTAL_PSGR\"),\n",
    "    F.mean(\"PSGR_COUNT\").alias(\"AVG_PSGR\"),\n",
    "    F.count(\"PSGR_COUNT\").alias(\"TOTAL_FLIGHTS\")\n",
    ").sort(F.desc(\"TOTAL_PSGR\")).toPandas()\n",
    "\n",
    "plt.figure(figsize=(6, 4))\n",
    "plt.barh(\n",
    "    df_current_analysis[\"FLIGHT_TYPE\"],\n",
    "    df_current_analysis[\"TOTAL_PSGR\"],\n",
    "    color=plt.cm.viridis(np.linspace(1, 0, len(df_current_analysis)))\n",
    ")\n",
    "plt.grid(True, linestyle=\"--\", alpha=0.8, axis=\"x\")\n",
    "plt.title(\"Total Number of Passengers by Flight Type\", fontsize=12)\n",
    "plt.xlabel(\"Total Number of Passengers\", fontsize=12)\n",
    "plt.ylabel(\"Flight Type\", fontsize=12)\n",
    "plt.xticks(rotation=45, ha=\"right\")\n",
    "plt.show()\n",
    "\n",
    "df_current_analysis"
   ]
  },
  {
   "cell_type": "code",
   "execution_count": 49,
   "id": "5255e0a6-defb-49c8-b969-1fbd934d264f",
   "metadata": {},
   "outputs": [
    {
     "data": {
      "image/png": "[encoded data removed]",
      "text/plain": [
       "<Figure size 600x400 with 1 Axes>"
      ]
     },
     "metadata": {},
     "output_type": "display_data"
    },
    {
     "data": {
      "text/html": [
       "<div>\n",
       "<style scoped>\n",
       "    .dataframe tbody tr th:only-of-type {\n",
       "        vertical-align: middle;\n",
       "    }\n",
       "\n",
       "    .dataframe tbody tr th {\n",
       "        vertical-align: top;\n",
       "    }\n",
       "\n",
       "    .dataframe thead th {\n",
       "        text-align: right;\n",
       "    }\n",
       "</style>\n",
       "<table border=\"1\" class=\"dataframe\">\n",
       "  <thead>\n",
       "    <tr style=\"text-align: right;\">\n",
       "      <th></th>\n",
       "      <th>FLIGHT_SEG</th>\n",
       "      <th>TOTAL_PSGR</th>\n",
       "      <th>AVG_PSGR</th>\n",
       "      <th>TOTAL_FLIGHTS</th>\n",
       "    </tr>\n",
       "  </thead>\n",
       "  <tbody>\n",
       "    <tr>\n",
       "      <th>0</th>\n",
       "      <td>SUMMER_LOW_SHORT</td>\n",
       "      <td>186312</td>\n",
       "      <td>6.508034</td>\n",
       "      <td>28628</td>\n",
       "    </tr>\n",
       "    <tr>\n",
       "      <th>1</th>\n",
       "      <td>WINTER_LOW_SHORT</td>\n",
       "      <td>168119</td>\n",
       "      <td>6.384832</td>\n",
       "      <td>26331</td>\n",
       "    </tr>\n",
       "    <tr>\n",
       "      <th>2</th>\n",
       "      <td>SUMMER_LOW_MEDIUM</td>\n",
       "      <td>149321</td>\n",
       "      <td>5.841523</td>\n",
       "      <td>25562</td>\n",
       "    </tr>\n",
       "    <tr>\n",
       "      <th>3</th>\n",
       "      <td>SUMMER_MEDIUM_SHORT</td>\n",
       "      <td>143460</td>\n",
       "      <td>40.173621</td>\n",
       "      <td>3571</td>\n",
       "    </tr>\n",
       "    <tr>\n",
       "      <th>4</th>\n",
       "      <td>WINTER_MEDIUM_SHORT</td>\n",
       "      <td>128707</td>\n",
       "      <td>40.258680</td>\n",
       "      <td>3197</td>\n",
       "    </tr>\n",
       "    <tr>\n",
       "      <th>5</th>\n",
       "      <td>SUMMER_HIGH_SHORT</td>\n",
       "      <td>126626</td>\n",
       "      <td>67.859593</td>\n",
       "      <td>1866</td>\n",
       "    </tr>\n",
       "    <tr>\n",
       "      <th>6</th>\n",
       "      <td>WINTER_LOW_MEDIUM</td>\n",
       "      <td>126447</td>\n",
       "      <td>5.560310</td>\n",
       "      <td>22741</td>\n",
       "    </tr>\n",
       "    <tr>\n",
       "      <th>7</th>\n",
       "      <td>WINTER_HIGH_SHORT</td>\n",
       "      <td>112913</td>\n",
       "      <td>67.856370</td>\n",
       "      <td>1664</td>\n",
       "    </tr>\n",
       "    <tr>\n",
       "      <th>8</th>\n",
       "      <td>SUMMER_MEDIUM_MEDIUM</td>\n",
       "      <td>91622</td>\n",
       "      <td>39.922440</td>\n",
       "      <td>2295</td>\n",
       "    </tr>\n",
       "    <tr>\n",
       "      <th>9</th>\n",
       "      <td>WINTER_MEDIUM_MEDIUM</td>\n",
       "      <td>74269</td>\n",
       "      <td>39.994076</td>\n",
       "      <td>1857</td>\n",
       "    </tr>\n",
       "    <tr>\n",
       "      <th>10</th>\n",
       "      <td>SUMMER_HIGH_MEDIUM</td>\n",
       "      <td>69338</td>\n",
       "      <td>67.515093</td>\n",
       "      <td>1027</td>\n",
       "    </tr>\n",
       "    <tr>\n",
       "      <th>11</th>\n",
       "      <td>WINTER_HIGH_MEDIUM</td>\n",
       "      <td>62679</td>\n",
       "      <td>67.907909</td>\n",
       "      <td>923</td>\n",
       "    </tr>\n",
       "    <tr>\n",
       "      <th>12</th>\n",
       "      <td>SUMMER_LOW_LONG</td>\n",
       "      <td>28117</td>\n",
       "      <td>5.179038</td>\n",
       "      <td>5429</td>\n",
       "    </tr>\n",
       "    <tr>\n",
       "      <th>13</th>\n",
       "      <td>WINTER_LOW_LONG</td>\n",
       "      <td>23673</td>\n",
       "      <td>5.016529</td>\n",
       "      <td>4719</td>\n",
       "    </tr>\n",
       "    <tr>\n",
       "      <th>14</th>\n",
       "      <td>SUMMER_MEDIUM_LONG</td>\n",
       "      <td>13632</td>\n",
       "      <td>39.513043</td>\n",
       "      <td>345</td>\n",
       "    </tr>\n",
       "    <tr>\n",
       "      <th>15</th>\n",
       "      <td>WINTER_MEDIUM_LONG</td>\n",
       "      <td>12489</td>\n",
       "      <td>39.522152</td>\n",
       "      <td>316</td>\n",
       "    </tr>\n",
       "    <tr>\n",
       "      <th>16</th>\n",
       "      <td>SUMMER_HIGH_LONG</td>\n",
       "      <td>11561</td>\n",
       "      <td>68.005882</td>\n",
       "      <td>170</td>\n",
       "    </tr>\n",
       "    <tr>\n",
       "      <th>17</th>\n",
       "      <td>WINTER_HIGH_LONG</td>\n",
       "      <td>8514</td>\n",
       "      <td>67.571429</td>\n",
       "      <td>126</td>\n",
       "    </tr>\n",
       "  </tbody>\n",
       "</table>\n",
       "</div>"
      ],
      "text/plain": [
       "              FLIGHT_SEG  TOTAL_PSGR   AVG_PSGR  TOTAL_FLIGHTS\n",
       "0       SUMMER_LOW_SHORT      186312   6.508034          28628\n",
       "1       WINTER_LOW_SHORT      168119   6.384832          26331\n",
       "2      SUMMER_LOW_MEDIUM      149321   5.841523          25562\n",
       "3    SUMMER_MEDIUM_SHORT      143460  40.173621           3571\n",
       "4    WINTER_MEDIUM_SHORT      128707  40.258680           3197\n",
       "5      SUMMER_HIGH_SHORT      126626  67.859593           1866\n",
       "6      WINTER_LOW_MEDIUM      126447   5.560310          22741\n",
       "7      WINTER_HIGH_SHORT      112913  67.856370           1664\n",
       "8   SUMMER_MEDIUM_MEDIUM       91622  39.922440           2295\n",
       "9   WINTER_MEDIUM_MEDIUM       74269  39.994076           1857\n",
       "10    SUMMER_HIGH_MEDIUM       69338  67.515093           1027\n",
       "11    WINTER_HIGH_MEDIUM       62679  67.907909            923\n",
       "12       SUMMER_LOW_LONG       28117   5.179038           5429\n",
       "13       WINTER_LOW_LONG       23673   5.016529           4719\n",
       "14    SUMMER_MEDIUM_LONG       13632  39.513043            345\n",
       "15    WINTER_MEDIUM_LONG       12489  39.522152            316\n",
       "16      SUMMER_HIGH_LONG       11561  68.005882            170\n",
       "17      WINTER_HIGH_LONG        8514  67.571429            126"
      ]
     },
     "execution_count": 49,
     "metadata": {},
     "output_type": "execute_result"
    }
   ],
   "source": [
    "import matplotlib.pyplot as plt\n",
    "import numpy as np\n",
    "\n",
    "df_current_analysis = df_processed.groupBy(\"FLIGHT_SEG\").agg(\n",
    "    F.sum(\"PSGR_COUNT\").alias(\"TOTAL_PSGR\"),\n",
    "    F.mean(\"PSGR_COUNT\").alias(\"AVG_PSGR\"),\n",
    "    F.count(\"PSGR_COUNT\").alias(\"TOTAL_FLIGHTS\")\n",
    ").sort(F.desc(\"TOTAL_PSGR\")).toPandas()\n",
    "\n",
    "plt.figure(figsize=(6, 4))\n",
    "plt.barh(\n",
    "    df_current_analysis[\"FLIGHT_SEG\"],\n",
    "    df_current_analysis[\"TOTAL_PSGR\"],\n",
    "    color=plt.cm.viridis(np.linspace(1, 0, len(df_current_analysis)))\n",
    ")\n",
    "plt.grid(True, linestyle=\"--\", alpha=0.8, axis=\"x\")\n",
    "plt.title(\"Total Number of Passengers by Flight Segment\", fontsize=12)\n",
    "plt.xlabel(\"Total Number of Passengers\", fontsize=12)\n",
    "plt.ylabel(\"Flight Segment\", fontsize=12)\n",
    "plt.xticks(rotation=45, ha=\"right\")\n",
    "plt.show()\n",
    "\n",
    "df_current_analysis"
   ]
  },
  {
   "cell_type": "code",
   "execution_count": 51,
   "id": "143caa93-a0d9-4bf3-a186-73e8bc7c5b6b",
   "metadata": {},
   "outputs": [
    {
     "data": {
      "image/png": "[encoded data removed]",
      "text/plain": [
       "<Figure size 600x400 with 1 Axes>"
      ]
     },
     "metadata": {},
     "output_type": "display_data"
    },
    {
     "data": {
      "text/html": [
       "<div>\n",
       "<style scoped>\n",
       "    .dataframe tbody tr th:only-of-type {\n",
       "        vertical-align: middle;\n",
       "    }\n",
       "\n",
       "    .dataframe tbody tr th {\n",
       "        vertical-align: top;\n",
       "    }\n",
       "\n",
       "    .dataframe thead th {\n",
       "        text-align: right;\n",
       "    }\n",
       "</style>\n",
       "<table border=\"1\" class=\"dataframe\">\n",
       "  <thead>\n",
       "    <tr style=\"text-align: right;\">\n",
       "      <th></th>\n",
       "      <th>ORIGIN_AIR_NAME</th>\n",
       "      <th>ORIGIN</th>\n",
       "      <th>TOTAL_PSGR</th>\n",
       "      <th>TOTAL_FLIGHTS</th>\n",
       "    </tr>\n",
       "  </thead>\n",
       "  <tbody>\n",
       "    <tr>\n",
       "      <th>0</th>\n",
       "      <td>Paris Charles de Gaulle Airport</td>\n",
       "      <td>CDG</td>\n",
       "      <td>14245</td>\n",
       "      <td>699</td>\n",
       "    </tr>\n",
       "    <tr>\n",
       "      <th>1</th>\n",
       "      <td>Heathrow Airport</td>\n",
       "      <td>LHR</td>\n",
       "      <td>13476</td>\n",
       "      <td>689</td>\n",
       "    </tr>\n",
       "    <tr>\n",
       "      <th>2</th>\n",
       "      <td>Munich Airport</td>\n",
       "      <td>MUC</td>\n",
       "      <td>12067</td>\n",
       "      <td>700</td>\n",
       "    </tr>\n",
       "    <tr>\n",
       "      <th>3</th>\n",
       "      <td>Melbourne Airport</td>\n",
       "      <td>MEL</td>\n",
       "      <td>12017</td>\n",
       "      <td>696</td>\n",
       "    </tr>\n",
       "    <tr>\n",
       "      <th>4</th>\n",
       "      <td>Rome–Fiumicino International Airport</td>\n",
       "      <td>FCO</td>\n",
       "      <td>11928</td>\n",
       "      <td>681</td>\n",
       "    </tr>\n",
       "  </tbody>\n",
       "</table>\n",
       "</div>"
      ],
      "text/plain": [
       "                        ORIGIN_AIR_NAME ORIGIN  TOTAL_PSGR  TOTAL_FLIGHTS\n",
       "0       Paris Charles de Gaulle Airport    CDG       14245            699\n",
       "1                      Heathrow Airport    LHR       13476            689\n",
       "2                        Munich Airport    MUC       12067            700\n",
       "3                     Melbourne Airport    MEL       12017            696\n",
       "4  Rome–Fiumicino International Airport    FCO       11928            681"
      ]
     },
     "execution_count": 51,
     "metadata": {},
     "output_type": "execute_result"
    }
   ],
   "source": [
    "import matplotlib.pyplot as plt\n",
    "import numpy as np\n",
    "\n",
    "df_current_analysis = df_processed.groupBy([\"ORIGIN_AIR_NAME\", \"ORIGIN\"]).agg(\n",
    "    F.sum(\"PSGR_COUNT\").alias(\"TOTAL_PSGR\"),\n",
    "    F.count(\"PSGR_COUNT\").alias(\"TOTAL_FLIGHTS\")\n",
    ").sort(F.desc(\"TOTAL_PSGR\")).limit(5).toPandas()\n",
    "\n",
    "plt.figure(figsize=(6, 4))\n",
    "plt.barh(\n",
    "    df_current_analysis[\"ORIGIN\"],\n",
    "    df_current_analysis[\"TOTAL_PSGR\"],\n",
    "    color=plt.cm.viridis(np.linspace(1, 0, len(df_current_analysis)))\n",
    ")\n",
    "plt.grid(True, linestyle=\"--\", alpha=0.8, axis=\"x\")\n",
    "plt.title(\"Total Number of Passengers by Origin Airport\", fontsize=12)\n",
    "plt.xlabel(\"Total Number of Passengers\", fontsize=10)\n",
    "plt.ylabel(\"Origin Airport\", fontsize=10)\n",
    "plt.show()\n",
    "\n",
    "df_current_analysis"
   ]
  },
  {
   "cell_type": "markdown",
   "id": "236c8201-b80a-47fb-b1e1-16790007b14a",
   "metadata": {},
   "source": [
    "## Step 5: Clustering"
   ]
  },
  {
   "cell_type": "code",
   "execution_count": 52,
   "id": "dadf45fa-177d-428d-b1f5-4a1e51342cc0",
   "metadata": {},
   "outputs": [
    {
     "name": "stdout",
     "output_type": "stream",
     "text": [
      "Silhouette Score (k = 2): 0.540584\n",
      "Silhouette Score (k = 3): 0.635608\n",
      "Silhouette Score (k = 4): 0.554424\n",
      "Silhouette Score (k = 5): 0.541166\n",
      "Silhouette Score (k = 6): 0.833732\n",
      "Silhouette Score (k = 7): 0.865108\n",
      "Silhouette Score (k = 8): 0.862533\n",
      "Silhouette Score (k = 9): 0.907249\n",
      "Silhouette Score (k = 10): 0.908999\n"
     ]
    },
    {
     "data": {
      "image/png": "[encoded data removed]",
      "text/plain": [
       "<Figure size 640x480 with 1 Axes>"
      ]
     },
     "metadata": {},
     "output_type": "display_data"
    },
    {
     "name": "stdout",
     "output_type": "stream",
     "text": [
      "Silhouette Score for Optimal Value: (idx = 10, k = 0.908999)\n"
     ]
    }
   ],
   "source": [
    "from pyspark.ml import Pipeline\n",
    "from pyspark.ml.feature import StringIndexer, VectorAssembler, StandardScaler\n",
    "from pyspark.ml.clustering import KMeans\n",
    "from pyspark.ml.evaluation import ClusteringEvaluator\n",
    "\n",
    "categorical_cols = [\"SEASON\", \"PSGR_COUNT_CAT\", \"ROUTE_DST_BKT\"]\n",
    "indexers = [StringIndexer(inputCol=c, outputCol=f\"{c}_IDX\") for c in categorical_cols]\n",
    "indexers_pipeline = Pipeline(stages=indexers)\n",
    "df_indexed = indexers_pipeline.fit(df_processed).transform(df_processed)\n",
    "\n",
    "feature_cols = [f\"{c}_IDX\" for c in categorical_cols]\n",
    "assembler = VectorAssembler(inputCols=feature_cols, outputCol=\"FEATURES\")\n",
    "df_vectorized = assembler.transform(df_indexed)\n",
    "\n",
    "scaler = StandardScaler(inputCol=\"FEATURES\", outputCol=\"SCALED_FEATURES\")\n",
    "df_scaled = scaler.fit(df_vectorized).transform(df_vectorized)\n",
    "\n",
    "silhouette_scores = []\n",
    "\n",
    "for k in range(2, 11):\n",
    "    kmeans = KMeans(featuresCol=\"SCALED_FEATURES\", k=k, seed=42)\n",
    "    model = kmeans.fit(df_scaled)\n",
    "    df_clusters = model.transform(df_scaled)\n",
    "    \n",
    "    evaluator = ClusteringEvaluator(featuresCol=\"SCALED_FEATURES\", metricName=\"silhouette\")\n",
    "    silhouette_score = evaluator.evaluate(df_clusters)\n",
    "    \n",
    "    silhouette_scores.append((k, silhouette_score, model, df_clusters))\n",
    "    print(f\"Silhouette Score (k = {k}): {silhouette_score:.6f}\")\n",
    "\n",
    "import matplotlib.pyplot as plt\n",
    "\n",
    "plt.plot([k[1] for k in silhouette_scores], marker='o', linestyle='-')\n",
    "plt.xlabel(\"Number of Clusters (k)\")\n",
    "plt.ylabel(\"Silhouette Score\")\n",
    "plt.title(\"Silhouette Score for Optimal k\")\n",
    "plt.show()\n",
    "\n",
    "opt_idx, opt_k, opt_model, opt_value = max(silhouette_scores, key=lambda k: k[1])\n",
    "print(f\"Silhouette Score for Optimal Value: (idx = {opt_idx}, k = {opt_k:.6f})\")"
   ]
  },
  {
   "cell_type": "code",
   "execution_count": 53,
   "id": "3ceb0b30-2a96-40ed-8694-1cefb17c826c",
   "metadata": {},
   "outputs": [
    {
     "name": "stdout",
     "output_type": "stream",
     "text": [
      "+------+----------+--------------+-------+------------------+-------------+-----------------+----------+\n",
      "|SEASON|PSGR_COUNT|PSGR_COUNT_CAT|ROUTE  |ROUTE_DST         |ROUTE_DST_BKT|FLIGHT_SEG       |prediction|\n",
      "+------+----------+--------------+-------+------------------+-------------+-----------------+----------+\n",
      "|WINTER|18        |LOW           |CCJ→RIX|6733.018808450966 |MEDIUM       |WINTER_LOW_MEDIUM|0         |\n",
      "|WINTER|24        |LOW           |CDG→ZLO|9591.378857716612 |MEDIUM       |WINTER_LOW_MEDIUM|0         |\n",
      "|WINTER|23        |LOW           |CCJ→PHX|14987.660152134564|LONG         |WINTER_LOW_LONG  |0         |\n",
      "+------+----------+--------------+-------+------------------+-------------+-----------------+----------+\n",
      "only showing top 3 rows\n",
      "\n",
      "+-----------------+-----+\n",
      "|       FLIGHT_SEG|count|\n",
      "+-----------------+-----+\n",
      "|WINTER_LOW_MEDIUM|22741|\n",
      "|  WINTER_LOW_LONG| 4719|\n",
      "+-----------------+-----+\n",
      "\n",
      "+------+----------+--------------+-------+-----------------+-------------+----------------+----------+\n",
      "|SEASON|PSGR_COUNT|PSGR_COUNT_CAT|ROUTE  |ROUTE_DST        |ROUTE_DST_BKT|FLIGHT_SEG      |prediction|\n",
      "+------+----------+--------------+-------+-----------------+-------------+----------------+----------+\n",
      "|SUMMER|21        |LOW           |CCJ→GUW|4596.692607652816|SHORT        |SUMMER_LOW_SHORT|1         |\n",
      "|SUMMER|1         |LOW           |CDC→YYZ|2878.773405099904|SHORT        |SUMMER_LOW_SHORT|1         |\n",
      "|SUMMER|2         |LOW           |CCU→PLW|4298.601779123067|SHORT        |SUMMER_LOW_SHORT|1         |\n",
      "+------+----------+--------------+-------+-----------------+-------------+----------------+----------+\n",
      "only showing top 3 rows\n",
      "\n",
      "+----------------+-----+\n",
      "|      FLIGHT_SEG|count|\n",
      "+----------------+-----+\n",
      "|SUMMER_LOW_SHORT|28628|\n",
      "+----------------+-----+\n",
      "\n",
      "+------+----------+--------------+-------+------------------+-------------+------------------+----------+\n",
      "|SEASON|PSGR_COUNT|PSGR_COUNT_CAT|ROUTE  |ROUTE_DST         |ROUTE_DST_BKT|FLIGHT_SEG        |prediction|\n",
      "+------+----------+--------------+-------+------------------+-------------+------------------+----------+\n",
      "|SUMMER|75        |HIGH          |CDG→MGM|7291.015817524519 |MEDIUM       |SUMMER_HIGH_MEDIUM|2         |\n",
      "|SUMMER|69        |HIGH          |CDG→YYY|4984.707984907597 |SHORT        |SUMMER_HIGH_SHORT |2         |\n",
      "|SUMMER|80        |HIGH          |CDG→LEI|1410.0045644024726|SHORT        |SUMMER_HIGH_SHORT |2         |\n",
      "+------+----------+--------------+-------+------------------+-------------+------------------+----------+\n",
      "only showing top 3 rows\n",
      "\n",
      "+------------------+-----+\n",
      "|        FLIGHT_SEG|count|\n",
      "+------------------+-----+\n",
      "|SUMMER_HIGH_MEDIUM| 1027|\n",
      "| SUMMER_HIGH_SHORT| 1866|\n",
      "+------------------+-----+\n",
      "\n",
      "+------+----------+--------------+-------+------------------+-------------+--------------------+----------+\n",
      "|SEASON|PSGR_COUNT|PSGR_COUNT_CAT|ROUTE  |ROUTE_DST         |ROUTE_DST_BKT|FLIGHT_SEG          |prediction|\n",
      "+------+----------+--------------+-------+------------------+-------------+--------------------+----------+\n",
      "|WINTER|44        |MEDIUM        |CCU→LUX|7564.558850663591 |MEDIUM       |WINTER_MEDIUM_MEDIUM|3         |\n",
      "|WINTER|47        |MEDIUM        |CED→PER|1670.7332647662784|SHORT        |WINTER_MEDIUM_SHORT |3         |\n",
      "|WINTER|30        |MEDIUM        |CCU→FOC|3177.2130728822203|SHORT        |WINTER_MEDIUM_SHORT |3         |\n",
      "+------+----------+--------------+-------+------------------+-------------+--------------------+----------+\n",
      "only showing top 3 rows\n",
      "\n",
      "+--------------------+-----+\n",
      "|          FLIGHT_SEG|count|\n",
      "+--------------------+-----+\n",
      "|  WINTER_MEDIUM_LONG|  316|\n",
      "|WINTER_MEDIUM_MEDIUM| 1857|\n",
      "| WINTER_MEDIUM_SHORT| 3197|\n",
      "+--------------------+-----+\n",
      "\n",
      "+------+----------+--------------+-------+-----------------+-------------+--------------------+----------+\n",
      "|SEASON|PSGR_COUNT|PSGR_COUNT_CAT|ROUTE  |ROUTE_DST        |ROUTE_DST_BKT|FLIGHT_SEG          |prediction|\n",
      "+------+----------+--------------+-------+-----------------+-------------+--------------------+----------+\n",
      "|SUMMER|52        |MEDIUM        |CCC→YHM|2307.9037831356  |SHORT        |SUMMER_MEDIUM_SHORT |4         |\n",
      "|SUMMER|38        |MEDIUM        |CGY→OGG|8542.991691296209|MEDIUM       |SUMMER_MEDIUM_MEDIUM|4         |\n",
      "|SUMMER|45        |MEDIUM        |CCU→ROC|12564.61260477654|MEDIUM       |SUMMER_MEDIUM_MEDIUM|4         |\n",
      "+------+----------+--------------+-------+-----------------+-------------+--------------------+----------+\n",
      "only showing top 3 rows\n",
      "\n",
      "+--------------------+-----+\n",
      "|          FLIGHT_SEG|count|\n",
      "+--------------------+-----+\n",
      "| SUMMER_MEDIUM_SHORT| 3571|\n",
      "|SUMMER_MEDIUM_MEDIUM| 2295|\n",
      "+--------------------+-----+\n",
      "\n",
      "+------+----------+--------------+-------+------------------+-------------+-----------------+----------+\n",
      "|SEASON|PSGR_COUNT|PSGR_COUNT_CAT|ROUTE  |ROUTE_DST         |ROUTE_DST_BKT|FLIGHT_SEG       |prediction|\n",
      "+------+----------+--------------+-------+------------------+-------------+-----------------+----------+\n",
      "|SUMMER|3         |LOW           |CCJ→GJL|7500.97213170126  |MEDIUM       |SUMMER_LOW_MEDIUM|5         |\n",
      "|SUMMER|24        |LOW           |CCJ→YYC|13026.274211524564|MEDIUM       |SUMMER_LOW_MEDIUM|5         |\n",
      "|SUMMER|2         |LOW           |CCP→GRR|8946.482732706645 |MEDIUM       |SUMMER_LOW_MEDIUM|5         |\n",
      "+------+----------+--------------+-------+------------------+-------------+-----------------+----------+\n",
      "only showing top 3 rows\n",
      "\n",
      "+-----------------+-----+\n",
      "|       FLIGHT_SEG|count|\n",
      "+-----------------+-----+\n",
      "|SUMMER_LOW_MEDIUM|25562|\n",
      "+-----------------+-----+\n",
      "\n",
      "+------+----------+--------------+-------+------------------+-------------+---------------+----------+\n",
      "|SEASON|PSGR_COUNT|PSGR_COUNT_CAT|ROUTE  |ROUTE_DST         |ROUTE_DST_BKT|FLIGHT_SEG     |prediction|\n",
      "+------+----------+--------------+-------+------------------+-------------+---------------+----------+\n",
      "|SUMMER|1         |LOW           |CCP→RUH|14212.168844850958|LONG         |SUMMER_LOW_LONG|6         |\n",
      "|SUMMER|8         |LOW           |CCJ→CVG|14084.553058951642|LONG         |SUMMER_LOW_LONG|6         |\n",
      "|SUMMER|1         |LOW           |CCJ→CZM|16027.880246731755|LONG         |SUMMER_LOW_LONG|6         |\n",
      "+------+----------+--------------+-------+------------------+-------------+---------------+----------+\n",
      "only showing top 3 rows\n",
      "\n",
      "+------------------+-----+\n",
      "|        FLIGHT_SEG|count|\n",
      "+------------------+-----+\n",
      "|SUMMER_MEDIUM_LONG|  345|\n",
      "|   SUMMER_LOW_LONG| 5429|\n",
      "+------------------+-----+\n",
      "\n",
      "+------+----------+--------------+-------+------------------+-------------+----------------+----------+\n",
      "|SEASON|PSGR_COUNT|PSGR_COUNT_CAT|ROUTE  |ROUTE_DST         |ROUTE_DST_BKT|FLIGHT_SEG      |prediction|\n",
      "+------+----------+--------------+-------+------------------+-------------+----------------+----------+\n",
      "|WINTER|22        |LOW           |CCC→YQM|2903.889589192002 |SHORT        |WINTER_LOW_SHORT|7         |\n",
      "|WINTER|2         |LOW           |CCJ→POL|4741.769492710692 |SHORT        |WINTER_LOW_SHORT|7         |\n",
      "|WINTER|11        |LOW           |CCP→IPC|3568.0439083944866|SHORT        |WINTER_LOW_SHORT|7         |\n",
      "+------+----------+--------------+-------+------------------+-------------+----------------+----------+\n",
      "only showing top 3 rows\n",
      "\n",
      "+----------------+-----+\n",
      "|      FLIGHT_SEG|count|\n",
      "+----------------+-----+\n",
      "|WINTER_LOW_SHORT|26331|\n",
      "+----------------+-----+\n",
      "\n",
      "+------+----------+--------------+-------+------------------+-------------+-----------------+----------+\n",
      "|SEASON|PSGR_COUNT|PSGR_COUNT_CAT|ROUTE  |ROUTE_DST         |ROUTE_DST_BKT|FLIGHT_SEG       |prediction|\n",
      "+------+----------+--------------+-------+------------------+-------------+-----------------+----------+\n",
      "|WINTER|59        |HIGH          |CDG→OUD|1623.4485402193366|SHORT        |WINTER_HIGH_SHORT|8         |\n",
      "|WINTER|75        |HIGH          |CDG→YFC|5024.388014993916 |SHORT        |WINTER_HIGH_SHORT|8         |\n",
      "|WINTER|65        |HIGH          |CDG→MRV|3103.044118401675 |SHORT        |WINTER_HIGH_SHORT|8         |\n",
      "+------+----------+--------------+-------+------------------+-------------+-----------------+----------+\n",
      "only showing top 3 rows\n",
      "\n",
      "+-----------------+-----+\n",
      "|       FLIGHT_SEG|count|\n",
      "+-----------------+-----+\n",
      "|WINTER_HIGH_SHORT| 1664|\n",
      "+-----------------+-----+\n",
      "\n",
      "+------+----------+--------------+-------+------------------+-------------+----------------+----------+\n",
      "|SEASON|PSGR_COUNT|PSGR_COUNT_CAT|ROUTE  |ROUTE_DST         |ROUTE_DST_BKT|FLIGHT_SEG      |prediction|\n",
      "+------+----------+--------------+-------+------------------+-------------+----------------+----------+\n",
      "|SUMMER|73        |HIGH          |CID→MEL|15247.308450567649|LONG         |SUMMER_HIGH_LONG|9         |\n",
      "|SUMMER|76        |HIGH          |CHC→RDU|14040.80502527072 |LONG         |SUMMER_HIGH_LONG|9         |\n",
      "|SUMMER|58        |HIGH          |CCU→MEM|13597.306279303531|LONG         |SUMMER_HIGH_LONG|9         |\n",
      "+------+----------+--------------+-------+------------------+-------------+----------------+----------+\n",
      "only showing top 3 rows\n",
      "\n",
      "+------------------+-----+\n",
      "|        FLIGHT_SEG|count|\n",
      "+------------------+-----+\n",
      "|  SUMMER_HIGH_LONG|  170|\n",
      "|  WINTER_HIGH_LONG|  126|\n",
      "|WINTER_HIGH_MEDIUM|  923|\n",
      "+------------------+-----+\n",
      "\n"
     ]
    }
   ],
   "source": [
    "df_clustered = opt_value.select(\"SEASON\", \"PSGR_COUNT\", \"PSGR_COUNT_CAT\", \"ROUTE\", \"ROUTE_DST\", \"ROUTE_DST_BKT\", \"FLIGHT_SEG\", \"prediction\")\n",
    "df_clustered.select(\"prediction\").distinct().count()\n",
    "\n",
    "for idx in range(0, opt_idx):\n",
    "    df_clustered_filter = df_clustered.filter(F.col(\"prediction\") == idx)\n",
    "    df_clustered_filter.show(3, truncate=False)\n",
    "    df_clustered_filter.groupBy(\"FLIGHT_SEG\").count().show()"
   ]
  },
  {
   "cell_type": "markdown",
   "id": "539d5a5a-00e8-4533-92f5-136030f63b88",
   "metadata": {},
   "source": [
    "## Step 6: Classification"
   ]
  },
  {
   "cell_type": "code",
   "execution_count": 54,
   "id": "c38810b9-dd58-44e0-bee7-9b59f4f4105b",
   "metadata": {},
   "outputs": [
    {
     "name": "stdout",
     "output_type": "stream",
     "text": [
      "Random Forest - Accuracy: 0.870175, F1 Score: 0.809939\n"
     ]
    }
   ],
   "source": [
    "from pyspark.ml.classification import RandomForestClassifier\n",
    "from pyspark.ml.evaluation import MulticlassClassificationEvaluator\n",
    "\n",
    "categorical_cols = [\"SEASON\", \"ROUTE_DST_BKT\", \"ROUTE_HEM\"]\n",
    "indexers = [StringIndexer(inputCol=col, outputCol=col + \"_IDX\", handleInvalid=\"keep\") for col in categorical_cols]\n",
    "\n",
    "feature_cols = [col + \"_IDX\" for col in categorical_cols]\n",
    "assembler = VectorAssembler(inputCols=feature_cols, outputCol=\"FEATURES\")\n",
    "\n",
    "label_indexer = StringIndexer(inputCol=\"FLIGHT_SEG\", outputCol=\"FLIGHT_SEG_LBL\", handleInvalid=\"keep\")\n",
    "\n",
    "train_data, test_data = df_processed.randomSplit([0.8, 0.2], seed=42)\n",
    "\n",
    "model = RandomForestClassifier(featuresCol=\"FEATURES\", labelCol=\"FLIGHT_SEG_LBL\", predictionCol=\"FLIGHT_SEG_PRD\", numTrees=100, maxBins=200)\n",
    "\n",
    "accuracy_evaluator = MulticlassClassificationEvaluator(labelCol=\"FLIGHT_SEG_LBL\", predictionCol=\"FLIGHT_SEG_PRD\", metricName=\"accuracy\")\n",
    "f1_evaluator = MulticlassClassificationEvaluator(labelCol=\"FLIGHT_SEG_LBL\", predictionCol=\"FLIGHT_SEG_PRD\", metricName=\"f1\")\n",
    "\n",
    "pipeline = Pipeline(stages=indexers + [assembler, label_indexer, model])\n",
    "trained_model = pipeline.fit(train_data)\n",
    "predictions = trained_model.transform(test_data)\n",
    "\n",
    "accuracy = accuracy_evaluator.evaluate(predictions)\n",
    "f1_score = f1_evaluator.evaluate(predictions)\n",
    "\n",
    "print(f\"Random Forest - Accuracy: {accuracy:.6f}, F1 Score: {f1_score:.6f}\")"
   ]
  },
  {
   "cell_type": "code",
   "execution_count": 55,
   "id": "88c21fe3-7ced-475d-89a8-694fa2b7a5e7",
   "metadata": {},
   "outputs": [
    {
     "name": "stdout",
     "output_type": "stream",
     "text": [
      "+------+-------------+-----------+--------------+--------------+\n",
      "|SEASON|ROUTE_DST_BKT|ROUTE_HEM  |FLIGHT_SEG_LBL|FLIGHT_SEG_PRD|\n",
      "+------+-------------+-----------+--------------+--------------+\n",
      "|SUMMER|LONG         |NORTH→NORTH|4.0           |4.0           |\n",
      "|SUMMER|MEDIUM       |NORTH→NORTH|2.0           |2.0           |\n",
      "|SUMMER|SHORT        |SOUTH→SOUTH|0.0           |0.0           |\n",
      "|SUMMER|MEDIUM       |SOUTH→NORTH|2.0           |2.0           |\n",
      "|SUMMER|SHORT        |SOUTH→SOUTH|0.0           |0.0           |\n",
      "|SUMMER|MEDIUM       |NORTH→NORTH|2.0           |2.0           |\n",
      "|SUMMER|MEDIUM       |NORTH→SOUTH|2.0           |2.0           |\n",
      "|SUMMER|MEDIUM       |NORTH→NORTH|12.0          |2.0           |\n",
      "|SUMMER|SHORT        |NORTH→NORTH|9.0           |0.0           |\n",
      "|SUMMER|SHORT        |NORTH→NORTH|9.0           |0.0           |\n",
      "|SUMMER|MEDIUM       |NORTH→SOUTH|8.0           |2.0           |\n",
      "|SUMMER|MEDIUM       |NORTH→SOUTH|2.0           |2.0           |\n",
      "|SUMMER|MEDIUM       |NORTH→NORTH|2.0           |2.0           |\n",
      "|SUMMER|SHORT        |NORTH→NORTH|0.0           |0.0           |\n",
      "|SUMMER|MEDIUM       |NORTH→NORTH|2.0           |2.0           |\n",
      "|SUMMER|MEDIUM       |NORTH→NORTH|2.0           |2.0           |\n",
      "|SUMMER|SHORT        |NORTH→NORTH|0.0           |0.0           |\n",
      "|SUMMER|MEDIUM       |NORTH→NORTH|2.0           |2.0           |\n",
      "|SUMMER|SHORT        |NORTH→NORTH|9.0           |0.0           |\n",
      "|SUMMER|SHORT        |SOUTH→SOUTH|0.0           |0.0           |\n",
      "+------+-------------+-----------+--------------+--------------+\n",
      "only showing top 20 rows\n",
      "\n"
     ]
    }
   ],
   "source": [
    "predictions.sample(False, 0.1).select(\"SEASON\", \"ROUTE_DST_BKT\", \"ROUTE_HEM\", \"FLIGHT_SEG_LBL\", \"FLIGHT_SEG_PRD\").show(20, truncate=False)"
   ]
  },
  {
   "cell_type": "markdown",
   "id": "fa82de6b-8495-4681-a6a0-c04c1f449c75",
   "metadata": {},
   "source": [
    "## Conclusion"
   ]
  },
  {
   "cell_type": "markdown",
   "id": "25e3c4e2-9b17-4464-9a76-aa259013b5d9",
   "metadata": {},
   "source": [
    "This study was conducted to process THY flight data using big data technologies, identify flight trends, analyze passenger demand and provide insights for operational improvements.\n",
    "\n",
    "- **Through data processing and feature engineering**, missing and incorrect data were cleaned, new attributes such as flight distances, flight types, seasonal variations were added.\n",
    "- **K-Means clustering analysis revealed** that flights were segmented based on seasonal and distance-related characteristics.\n",
    "- **The classification model (Random Forest) achieved 87% accuracy**, successfully predicting flight segments.\n",
    "- It was observed that flight demand increased during the summer, **international flights carried the highest number of passengers** and major airports such as **Paris, Munich, Rome served as key hubs**.\n",
    "\n",
    "This analysis provides valuable insights for optimizing flight routes, improving fleet planning and developing dynamic pricing strategies. In the future, model accuracy can be enhanced by incorporating additional data sources and developing predictive models based on seasonal variations."
   ]
  },
  {
   "cell_type": "markdown",
   "id": "a7a8d49f",
   "metadata": {},
   "source": []
  }
 ],
 "metadata": {
  "kernelspec": {
   "display_name": "Python 3 (ipykernel)",
   "language": "python",
   "name": "python3"
  },
  "language_info": {
   "codemirror_mode": {
    "name": "ipython",
    "version": 3
   },
   "file_extension": ".py",
   "mimetype": "text/x-python",
   "name": "python",
   "nbconvert_exporter": "python",
   "pygments_lexer": "ipython3",
   "version": "3.12.3"
  }
 },
 "nbformat": 4,
 "nbformat_minor": 5
}
